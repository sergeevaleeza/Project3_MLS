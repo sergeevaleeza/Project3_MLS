{
 "cells": [
  {
   "cell_type": "code",
   "execution_count": 1,
   "metadata": {},
   "outputs": [
    {
     "name": "stderr",
     "output_type": "stream",
     "text": [
      "Using TensorFlow backend.\n"
     ]
    }
   ],
   "source": [
    "%matplotlib inline\n",
    "from matplotlib import style\n",
    "style.use('fivethirtyeight')\n",
    "import matplotlib.pyplot as plt\n",
    "import seaborn as sns\n",
    "import tensorflow.keras\n",
    "from keras.models import Sequential\n",
    "from keras.utils import to_categorical\n",
    "from keras.optimizers import SGD \n",
    "from keras.callbacks import EarlyStopping\n",
    "from keras.utils import np_utils\n",
    "import itertools\n",
    "from keras.layers.convolutional import Conv1D\n",
    "from keras.layers.convolutional import MaxPooling1D\n",
    "from keras.layers import Dense, Dropout, LSTM, Activation\n",
    "from pandas import Series\n",
    "from sklearn.preprocessing import MinMaxScaler\n",
    "from tensorflow.keras import backend\n",
    "\n",
    "# from tensorflow.python.framework import ops\n",
    "# ops.reset_default_graph()\n",
    "\n",
    "# tensorflow version and keras version matters for compatability (latest versions not working together tensorflow 2.0 and keras 2.2.4)\n",
    "# error message - AttributeError: module 'tensorflow' has no attribute 'get_default_graph'\n",
    "# tensorflow 1.13.1 and keras 2.2.4 worked below"
   ]
  },
  {
   "cell_type": "code",
   "execution_count": 2,
   "metadata": {},
   "outputs": [],
   "source": [
    "import numpy as np\n",
    "import pandas as pd\n",
    "from collections import defaultdict"
   ]
  },
  {
   "cell_type": "code",
   "execution_count": 3,
   "metadata": {},
   "outputs": [],
   "source": [
    "import datetime as dt\n",
    "from dateutil.relativedelta import relativedelta"
   ]
  },
  {
   "cell_type": "code",
   "execution_count": 4,
   "metadata": {},
   "outputs": [],
   "source": [
    "# Python SQL toolkit and Object Relational Mapper\n",
    "import sqlalchemy\n",
    "from sqlalchemy.ext.automap import automap_base\n",
    "from sqlalchemy.orm import Session\n",
    "from sqlalchemy import create_engine, func, inspect\n",
    "from sqlalchemy import desc"
   ]
  },
  {
   "cell_type": "code",
   "execution_count": 5,
   "metadata": {},
   "outputs": [],
   "source": [
    "engine = create_engine(\"sqlite:///db/Veggie_Fruit_DB.sqlite\")"
   ]
  },
  {
   "cell_type": "code",
   "execution_count": 6,
   "metadata": {},
   "outputs": [],
   "source": [
    "# reflect an existing database into a new model\n",
    "Base = automap_base()\n",
    "# reflect the tables\n",
    "Base.prepare(engine, reflect=True)"
   ]
  },
  {
   "cell_type": "code",
   "execution_count": 7,
   "metadata": {},
   "outputs": [
    {
     "data": {
      "text/plain": [
       "['fruitexportdest',\n",
       " 'fruitexportval',\n",
       " 'fruitimportsource',\n",
       " 'fruitimportval',\n",
       " 'veggieexportdest',\n",
       " 'veggieexportval',\n",
       " 'veggieimportsource',\n",
       " 'veggieimportval']"
      ]
     },
     "execution_count": 7,
     "metadata": {},
     "output_type": "execute_result"
    }
   ],
   "source": [
    "# We can view all of the classes that automap found\n",
    "Base.classes.keys()"
   ]
  },
  {
   "cell_type": "code",
   "execution_count": 8,
   "metadata": {},
   "outputs": [
    {
     "data": {
      "text/plain": [
       "['fruitexportdest',\n",
       " 'fruitexportval',\n",
       " 'fruitimportsource',\n",
       " 'fruitimportval',\n",
       " 'veggieexportdest',\n",
       " 'veggieexportval',\n",
       " 'veggieimportsource',\n",
       " 'veggieimportval']"
      ]
     },
     "execution_count": 8,
     "metadata": {},
     "output_type": "execute_result"
    }
   ],
   "source": [
    "inspector=inspect(engine)\n",
    "inspector.get_table_names()"
   ]
  },
  {
   "cell_type": "code",
   "execution_count": 9,
   "metadata": {},
   "outputs": [
    {
     "name": "stdout",
     "output_type": "stream",
     "text": [
      "id\n",
      "product\n",
      "flow\n",
      "mktyr\n",
      "avg\n",
      "jan\n",
      "feb\n",
      "mar\n",
      "apr\n",
      "may\n",
      "jun\n",
      "jul\n",
      "aug\n",
      "sep\n",
      "oct\n",
      "nov\n",
      "dec\n"
     ]
    }
   ],
   "source": [
    "measurement_columns = inspector.get_columns('fruitexportval')\n",
    "for c in measurement_columns:\n",
    "    print(c['name'])"
   ]
  },
  {
   "cell_type": "code",
   "execution_count": 10,
   "metadata": {},
   "outputs": [],
   "source": [
    "# Save references to each table\n",
    "# FED = FruistExportDestination, FEV =FruitExportValue, FIS =FruitImportSource,FIV=FruitImportValue\n",
    "# VED =VeggieExportDestination, VEV=VeggieExportValue, VIS=VeggieImportSource, VIV=VeggieImportValue\n",
    "FED = Base.classes.fruitexportdest\n",
    "FEV = Base.classes.fruitexportval\n",
    "FIS = Base.classes.fruitimportsource\n",
    "FIV = Base.classes.fruitimportval\n",
    "VED = Base.classes.veggieexportdest\n",
    "VEV = Base.classes.veggieexportval\n",
    "VIS = Base.classes.veggieimportsource\n",
    "VIV = Base.classes.veggieimportval\n"
   ]
  },
  {
   "cell_type": "code",
   "execution_count": 11,
   "metadata": {},
   "outputs": [],
   "source": [
    "# Create our session (link) from Python to the DB\n",
    "session = Session(engine)"
   ]
  },
  {
   "cell_type": "code",
   "execution_count": 12,
   "metadata": {},
   "outputs": [],
   "source": [
    "fev_summary = session.query(FEV.product,FEV.mktyr,FEV.jan,FEV.feb,FEV.mar,FEV.apr,FEV.may,FEV.jun,FEV.jul,FEV.aug,FEV.sep,FEV.oct,FEV.nov,FEV.dec).order_by(FEV.product.asc()).all()\n",
    "fev_df = pd.DataFrame(fev_summary, columns=['product', 'mktyr', 'jan','feb','mar','apr','may','jun','jul','aug','sep','oct','nov','dec'])\n"
   ]
  },
  {
   "cell_type": "code",
   "execution_count": 13,
   "metadata": {},
   "outputs": [
    {
     "data": {
      "text/html": [
       "<div>\n",
       "<style scoped>\n",
       "    .dataframe tbody tr th:only-of-type {\n",
       "        vertical-align: middle;\n",
       "    }\n",
       "\n",
       "    .dataframe tbody tr th {\n",
       "        vertical-align: top;\n",
       "    }\n",
       "\n",
       "    .dataframe thead th {\n",
       "        text-align: right;\n",
       "    }\n",
       "</style>\n",
       "<table border=\"1\" class=\"dataframe\">\n",
       "  <thead>\n",
       "    <tr style=\"text-align: right;\">\n",
       "      <th></th>\n",
       "      <th>product</th>\n",
       "      <th>mktyr</th>\n",
       "      <th>jan</th>\n",
       "      <th>feb</th>\n",
       "      <th>mar</th>\n",
       "      <th>apr</th>\n",
       "      <th>may</th>\n",
       "      <th>jun</th>\n",
       "      <th>jul</th>\n",
       "      <th>aug</th>\n",
       "      <th>sep</th>\n",
       "      <th>oct</th>\n",
       "      <th>nov</th>\n",
       "      <th>dec</th>\n",
       "    </tr>\n",
       "  </thead>\n",
       "  <tbody>\n",
       "    <tr>\n",
       "      <th>0</th>\n",
       "      <td>Apple</td>\n",
       "      <td>2019.0</td>\n",
       "      <td>89,081</td>\n",
       "      <td>84,166</td>\n",
       "      <td>92,180</td>\n",
       "      <td>0</td>\n",
       "      <td>0</td>\n",
       "      <td>0</td>\n",
       "      <td>0</td>\n",
       "      <td>0</td>\n",
       "      <td>0</td>\n",
       "      <td>0</td>\n",
       "      <td>0</td>\n",
       "      <td>0</td>\n",
       "    </tr>\n",
       "    <tr>\n",
       "      <th>1</th>\n",
       "      <td>Apple</td>\n",
       "      <td>2018.0</td>\n",
       "      <td>113,635</td>\n",
       "      <td>99,632</td>\n",
       "      <td>117,936</td>\n",
       "      <td>101,534</td>\n",
       "      <td>108,920</td>\n",
       "      <td>82,645</td>\n",
       "      <td>53,459</td>\n",
       "      <td>51,337</td>\n",
       "      <td>48,029</td>\n",
       "      <td>61,213</td>\n",
       "      <td>89,904</td>\n",
       "      <td>80,895</td>\n",
       "    </tr>\n",
       "    <tr>\n",
       "      <th>2</th>\n",
       "      <td>Apple</td>\n",
       "      <td>2017.0</td>\n",
       "      <td>84,874</td>\n",
       "      <td>87,895</td>\n",
       "      <td>95,203</td>\n",
       "      <td>74,945</td>\n",
       "      <td>82,806</td>\n",
       "      <td>76,525</td>\n",
       "      <td>56,665</td>\n",
       "      <td>53,621</td>\n",
       "      <td>55,600</td>\n",
       "      <td>75,074</td>\n",
       "      <td>127,769</td>\n",
       "      <td>98,522</td>\n",
       "    </tr>\n",
       "    <tr>\n",
       "      <th>3</th>\n",
       "      <td>Apple</td>\n",
       "      <td>2016.0</td>\n",
       "      <td>80,501</td>\n",
       "      <td>87,112</td>\n",
       "      <td>84,530</td>\n",
       "      <td>77,437</td>\n",
       "      <td>76,002</td>\n",
       "      <td>62,334</td>\n",
       "      <td>52,341</td>\n",
       "      <td>56,738</td>\n",
       "      <td>53,495</td>\n",
       "      <td>80,845</td>\n",
       "      <td>108,754</td>\n",
       "      <td>100,586</td>\n",
       "    </tr>\n",
       "    <tr>\n",
       "      <th>4</th>\n",
       "      <td>Apple</td>\n",
       "      <td>2015.0</td>\n",
       "      <td>111,979</td>\n",
       "      <td>83,135</td>\n",
       "      <td>101,106</td>\n",
       "      <td>90,883</td>\n",
       "      <td>99,848</td>\n",
       "      <td>71,933</td>\n",
       "      <td>69,759</td>\n",
       "      <td>67,186</td>\n",
       "      <td>59,125</td>\n",
       "      <td>81,440</td>\n",
       "      <td>99,990</td>\n",
       "      <td>82,272</td>\n",
       "    </tr>\n",
       "  </tbody>\n",
       "</table>\n",
       "</div>"
      ],
      "text/plain": [
       "  product   mktyr      jan     feb      mar      apr      may     jun     jul  \\\n",
       "0   Apple  2019.0   89,081  84,166   92,180        0        0       0       0   \n",
       "1   Apple  2018.0  113,635  99,632  117,936  101,534  108,920  82,645  53,459   \n",
       "2   Apple  2017.0   84,874  87,895   95,203   74,945   82,806  76,525  56,665   \n",
       "3   Apple  2016.0   80,501  87,112   84,530   77,437   76,002  62,334  52,341   \n",
       "4   Apple  2015.0  111,979  83,135  101,106   90,883   99,848  71,933  69,759   \n",
       "\n",
       "      aug     sep     oct      nov      dec  \n",
       "0       0       0       0        0        0  \n",
       "1  51,337  48,029  61,213   89,904   80,895  \n",
       "2  53,621  55,600  75,074  127,769   98,522  \n",
       "3  56,738  53,495  80,845  108,754  100,586  \n",
       "4  67,186  59,125  81,440   99,990   82,272  "
      ]
     },
     "execution_count": 13,
     "metadata": {},
     "output_type": "execute_result"
    }
   ],
   "source": [
    "fev_df.head()"
   ]
  },
  {
   "cell_type": "code",
   "execution_count": 14,
   "metadata": {},
   "outputs": [],
   "source": [
    "fev_df['jan'] = fev_df['jan'].str.replace(',', '')\n",
    "fev_df['feb'] = fev_df['feb'].str.replace(',', '')\n",
    "fev_df['mar'] = fev_df['mar'].str.replace(',', '')\n",
    "fev_df['apr'] = fev_df['apr'].str.replace(',', '')\n",
    "fev_df['may'] = fev_df['may'].str.replace(',', '')\n",
    "fev_df['jun'] = fev_df['jun'].str.replace(',', '')\n",
    "fev_df['jul'] = fev_df['jul'].str.replace(',', '')\n",
    "fev_df['aug'] = fev_df['aug'].str.replace(',', '')\n",
    "fev_df['sep'] = fev_df['sep'].str.replace(',', '')\n",
    "fev_df['oct'] = fev_df['oct'].str.replace(',', '')\n",
    "fev_df['nov'] = fev_df['nov'].str.replace(',', '')\n",
    "fev_df['dec'] = fev_df['dec'].str.replace(',', '')\n"
   ]
  },
  {
   "cell_type": "code",
   "execution_count": 15,
   "metadata": {},
   "outputs": [],
   "source": [
    "fev_df=fev_df.dropna(how=\"any\")"
   ]
  },
  {
   "cell_type": "code",
   "execution_count": 16,
   "metadata": {},
   "outputs": [],
   "source": [
    "fev_df[\"jan\"] = pd.to_numeric(fev_df[\"jan\"])\n",
    "fev_df[\"feb\"] = pd.to_numeric(fev_df[\"feb\"])\n",
    "fev_df[\"mar\"] = pd.to_numeric(fev_df[\"mar\"])\n",
    "fev_df[\"apr\"] = pd.to_numeric(fev_df[\"apr\"])\n",
    "fev_df[\"may\"] = pd.to_numeric(fev_df[\"may\"])\n",
    "fev_df[\"jun\"] = pd.to_numeric(fev_df[\"jun\"])\n",
    "fev_df[\"jul\"] = pd.to_numeric(fev_df[\"jul\"])\n",
    "fev_df[\"aug\"] = pd.to_numeric(fev_df[\"aug\"])\n",
    "fev_df[\"sep\"] = pd.to_numeric(fev_df[\"sep\"])\n",
    "fev_df[\"oct\"] = pd.to_numeric(fev_df[\"oct\"])\n",
    "fev_df[\"nov\"] = pd.to_numeric(fev_df[\"nov\"])\n",
    "fev_df[\"dec\"] = pd.to_numeric(fev_df[\"dec\"])"
   ]
  },
  {
   "cell_type": "code",
   "execution_count": 17,
   "metadata": {},
   "outputs": [
    {
     "data": {
      "text/html": [
       "<div>\n",
       "<style scoped>\n",
       "    .dataframe tbody tr th:only-of-type {\n",
       "        vertical-align: middle;\n",
       "    }\n",
       "\n",
       "    .dataframe tbody tr th {\n",
       "        vertical-align: top;\n",
       "    }\n",
       "\n",
       "    .dataframe thead th {\n",
       "        text-align: right;\n",
       "    }\n",
       "</style>\n",
       "<table border=\"1\" class=\"dataframe\">\n",
       "  <thead>\n",
       "    <tr style=\"text-align: right;\">\n",
       "      <th></th>\n",
       "      <th>product</th>\n",
       "      <th>mktyr</th>\n",
       "      <th>jan</th>\n",
       "      <th>feb</th>\n",
       "      <th>mar</th>\n",
       "      <th>apr</th>\n",
       "      <th>may</th>\n",
       "      <th>jun</th>\n",
       "      <th>jul</th>\n",
       "      <th>aug</th>\n",
       "      <th>sep</th>\n",
       "      <th>oct</th>\n",
       "      <th>nov</th>\n",
       "      <th>dec</th>\n",
       "    </tr>\n",
       "  </thead>\n",
       "  <tbody>\n",
       "    <tr>\n",
       "      <th>83</th>\n",
       "      <td>Pears</td>\n",
       "      <td>2015.0</td>\n",
       "      <td>21505</td>\n",
       "      <td>15001</td>\n",
       "      <td>13644</td>\n",
       "      <td>10299</td>\n",
       "      <td>8132</td>\n",
       "      <td>7412</td>\n",
       "      <td>10160</td>\n",
       "      <td>10844</td>\n",
       "      <td>19248</td>\n",
       "      <td>25402</td>\n",
       "      <td>26682</td>\n",
       "      <td>19393</td>\n",
       "    </tr>\n",
       "    <tr>\n",
       "      <th>100</th>\n",
       "      <td>Strawberries</td>\n",
       "      <td>2018.0</td>\n",
       "      <td>17496</td>\n",
       "      <td>27533</td>\n",
       "      <td>24395</td>\n",
       "      <td>43220</td>\n",
       "      <td>59794</td>\n",
       "      <td>49719</td>\n",
       "      <td>40222</td>\n",
       "      <td>40303</td>\n",
       "      <td>42563</td>\n",
       "      <td>39983</td>\n",
       "      <td>27254</td>\n",
       "      <td>15318</td>\n",
       "    </tr>\n",
       "    <tr>\n",
       "      <th>101</th>\n",
       "      <td>Strawberries</td>\n",
       "      <td>2017.0</td>\n",
       "      <td>14249</td>\n",
       "      <td>18296</td>\n",
       "      <td>29821</td>\n",
       "      <td>40112</td>\n",
       "      <td>50452</td>\n",
       "      <td>52969</td>\n",
       "      <td>44915</td>\n",
       "      <td>40847</td>\n",
       "      <td>40378</td>\n",
       "      <td>37616</td>\n",
       "      <td>25847</td>\n",
       "      <td>21020</td>\n",
       "    </tr>\n",
       "    <tr>\n",
       "      <th>102</th>\n",
       "      <td>Strawberries</td>\n",
       "      <td>2016.0</td>\n",
       "      <td>11004</td>\n",
       "      <td>20414</td>\n",
       "      <td>35624</td>\n",
       "      <td>35771</td>\n",
       "      <td>60551</td>\n",
       "      <td>49340</td>\n",
       "      <td>41845</td>\n",
       "      <td>41045</td>\n",
       "      <td>43948</td>\n",
       "      <td>31276</td>\n",
       "      <td>18475</td>\n",
       "      <td>16889</td>\n",
       "    </tr>\n",
       "    <tr>\n",
       "      <th>103</th>\n",
       "      <td>Strawberries</td>\n",
       "      <td>2015.0</td>\n",
       "      <td>22901</td>\n",
       "      <td>29747</td>\n",
       "      <td>38022</td>\n",
       "      <td>36743</td>\n",
       "      <td>55606</td>\n",
       "      <td>47085</td>\n",
       "      <td>38872</td>\n",
       "      <td>34588</td>\n",
       "      <td>34556</td>\n",
       "      <td>28249</td>\n",
       "      <td>12974</td>\n",
       "      <td>15629</td>\n",
       "    </tr>\n",
       "  </tbody>\n",
       "</table>\n",
       "</div>"
      ],
      "text/plain": [
       "          product   mktyr    jan    feb    mar    apr    may    jun    jul  \\\n",
       "83          Pears  2015.0  21505  15001  13644  10299   8132   7412  10160   \n",
       "100  Strawberries  2018.0  17496  27533  24395  43220  59794  49719  40222   \n",
       "101  Strawberries  2017.0  14249  18296  29821  40112  50452  52969  44915   \n",
       "102  Strawberries  2016.0  11004  20414  35624  35771  60551  49340  41845   \n",
       "103  Strawberries  2015.0  22901  29747  38022  36743  55606  47085  38872   \n",
       "\n",
       "       aug    sep    oct    nov    dec  \n",
       "83   10844  19248  25402  26682  19393  \n",
       "100  40303  42563  39983  27254  15318  \n",
       "101  40847  40378  37616  25847  21020  \n",
       "102  41045  43948  31276  18475  16889  \n",
       "103  34588  34556  28249  12974  15629  "
      ]
     },
     "execution_count": 17,
     "metadata": {},
     "output_type": "execute_result"
    }
   ],
   "source": [
    "fev_df.tail()"
   ]
  },
  {
   "cell_type": "code",
   "execution_count": 18,
   "metadata": {},
   "outputs": [],
   "source": [
    "vev_summary = session.query(VEV.product,VEV.mktyr,VEV.jan,VEV.feb,VEV.mar,VEV.apr,VEV.may,VEV.jun,VEV.jul,VEV.aug,VEV.sep,VEV.oct,VEV.nov,VEV.dec).order_by(VEV.product.asc()).all()\n",
    "vev_df = pd.DataFrame(vev_summary, columns=['product', 'mktyr', 'jan','feb','mar','apr','may','jun','jul','aug','sep','oct','nov','dec'])\n"
   ]
  },
  {
   "cell_type": "code",
   "execution_count": 19,
   "metadata": {},
   "outputs": [
    {
     "data": {
      "text/html": [
       "<div>\n",
       "<style scoped>\n",
       "    .dataframe tbody tr th:only-of-type {\n",
       "        vertical-align: middle;\n",
       "    }\n",
       "\n",
       "    .dataframe tbody tr th {\n",
       "        vertical-align: top;\n",
       "    }\n",
       "\n",
       "    .dataframe thead th {\n",
       "        text-align: right;\n",
       "    }\n",
       "</style>\n",
       "<table border=\"1\" class=\"dataframe\">\n",
       "  <thead>\n",
       "    <tr style=\"text-align: right;\">\n",
       "      <th></th>\n",
       "      <th>product</th>\n",
       "      <th>mktyr</th>\n",
       "      <th>jan</th>\n",
       "      <th>feb</th>\n",
       "      <th>mar</th>\n",
       "      <th>apr</th>\n",
       "      <th>may</th>\n",
       "      <th>jun</th>\n",
       "      <th>jul</th>\n",
       "      <th>aug</th>\n",
       "      <th>sep</th>\n",
       "      <th>oct</th>\n",
       "      <th>nov</th>\n",
       "      <th>dec</th>\n",
       "    </tr>\n",
       "  </thead>\n",
       "  <tbody>\n",
       "    <tr>\n",
       "      <th>0</th>\n",
       "      <td>artichoke</td>\n",
       "      <td>2019.0</td>\n",
       "      <td>265</td>\n",
       "      <td>330</td>\n",
       "      <td>246</td>\n",
       "      <td>0</td>\n",
       "      <td>0</td>\n",
       "      <td>0</td>\n",
       "      <td>0</td>\n",
       "      <td>0</td>\n",
       "      <td>0</td>\n",
       "      <td>0</td>\n",
       "      <td>0</td>\n",
       "      <td>0</td>\n",
       "    </tr>\n",
       "    <tr>\n",
       "      <th>1</th>\n",
       "      <td>artichoke</td>\n",
       "      <td>2018.0</td>\n",
       "      <td>323</td>\n",
       "      <td>366</td>\n",
       "      <td>235</td>\n",
       "      <td>268</td>\n",
       "      <td>326</td>\n",
       "      <td>269</td>\n",
       "      <td>179</td>\n",
       "      <td>187</td>\n",
       "      <td>206</td>\n",
       "      <td>195</td>\n",
       "      <td>334</td>\n",
       "      <td>329</td>\n",
       "    </tr>\n",
       "    <tr>\n",
       "      <th>2</th>\n",
       "      <td>artichoke</td>\n",
       "      <td>2017.0</td>\n",
       "      <td>258</td>\n",
       "      <td>293</td>\n",
       "      <td>287</td>\n",
       "      <td>262</td>\n",
       "      <td>301</td>\n",
       "      <td>339</td>\n",
       "      <td>257</td>\n",
       "      <td>220</td>\n",
       "      <td>262</td>\n",
       "      <td>399</td>\n",
       "      <td>230</td>\n",
       "      <td>443</td>\n",
       "    </tr>\n",
       "    <tr>\n",
       "      <th>3</th>\n",
       "      <td>artichoke</td>\n",
       "      <td>2016.0</td>\n",
       "      <td>122</td>\n",
       "      <td>230</td>\n",
       "      <td>295</td>\n",
       "      <td>449</td>\n",
       "      <td>182</td>\n",
       "      <td>306</td>\n",
       "      <td>262</td>\n",
       "      <td>167</td>\n",
       "      <td>269</td>\n",
       "      <td>296</td>\n",
       "      <td>332</td>\n",
       "      <td>391</td>\n",
       "    </tr>\n",
       "    <tr>\n",
       "      <th>4</th>\n",
       "      <td>artichoke</td>\n",
       "      <td>2015.0</td>\n",
       "      <td>231</td>\n",
       "      <td>373</td>\n",
       "      <td>352</td>\n",
       "      <td>332</td>\n",
       "      <td>320</td>\n",
       "      <td>260</td>\n",
       "      <td>292</td>\n",
       "      <td>216</td>\n",
       "      <td>134</td>\n",
       "      <td>206</td>\n",
       "      <td>230</td>\n",
       "      <td>197</td>\n",
       "    </tr>\n",
       "  </tbody>\n",
       "</table>\n",
       "</div>"
      ],
      "text/plain": [
       "     product   mktyr  jan  feb  mar  apr  may  jun  jul  aug  sep  oct  nov  \\\n",
       "0  artichoke  2019.0  265  330  246    0    0    0    0    0    0    0    0   \n",
       "1  artichoke  2018.0  323  366  235  268  326  269  179  187  206  195  334   \n",
       "2  artichoke  2017.0  258  293  287  262  301  339  257  220  262  399  230   \n",
       "3  artichoke  2016.0  122  230  295  449  182  306  262  167  269  296  332   \n",
       "4  artichoke  2015.0  231  373  352  332  320  260  292  216  134  206  230   \n",
       "\n",
       "   dec  \n",
       "0    0  \n",
       "1  329  \n",
       "2  443  \n",
       "3  391  \n",
       "4  197  "
      ]
     },
     "execution_count": 19,
     "metadata": {},
     "output_type": "execute_result"
    }
   ],
   "source": [
    "vev_df.head()"
   ]
  },
  {
   "cell_type": "code",
   "execution_count": 20,
   "metadata": {},
   "outputs": [],
   "source": [
    "vev_df['jan'] = vev_df['jan'].str.replace(',', '')\n",
    "vev_df['feb'] = vev_df['feb'].str.replace(',', '')\n",
    "vev_df['mar'] = vev_df['mar'].str.replace(',', '')\n",
    "vev_df['apr'] = vev_df['apr'].str.replace(',', '')\n",
    "vev_df['may'] = vev_df['may'].str.replace(',', '')\n",
    "vev_df['jun'] = vev_df['jun'].str.replace(',', '')\n",
    "vev_df['jul'] = vev_df['jul'].str.replace(',', '')\n",
    "vev_df['aug'] = vev_df['aug'].str.replace(',', '')\n",
    "vev_df['sep'] = vev_df['sep'].str.replace(',', '')\n",
    "vev_df['oct'] = vev_df['oct'].str.replace(',', '')\n",
    "vev_df['nov'] = vev_df['nov'].str.replace(',', '')\n",
    "vev_df['dec'] = vev_df['dec'].str.replace(',', '')"
   ]
  },
  {
   "cell_type": "code",
   "execution_count": 21,
   "metadata": {},
   "outputs": [],
   "source": [
    "vev_df=vev_df.dropna(how=\"any\")"
   ]
  },
  {
   "cell_type": "code",
   "execution_count": 22,
   "metadata": {},
   "outputs": [],
   "source": [
    "vev_df[\"jan\"] = pd.to_numeric(vev_df[\"jan\"])\n",
    "vev_df[\"feb\"] = pd.to_numeric(vev_df[\"feb\"])\n",
    "vev_df[\"mar\"] = pd.to_numeric(vev_df[\"mar\"])\n",
    "vev_df[\"apr\"] = pd.to_numeric(vev_df[\"apr\"])\n",
    "vev_df[\"may\"] = pd.to_numeric(vev_df[\"may\"])\n",
    "vev_df[\"jun\"] = pd.to_numeric(vev_df[\"jun\"])\n",
    "vev_df[\"jul\"] = pd.to_numeric(vev_df[\"jul\"])\n",
    "vev_df[\"aug\"] = pd.to_numeric(vev_df[\"aug\"])\n",
    "vev_df[\"sep\"] = pd.to_numeric(vev_df[\"sep\"])\n",
    "vev_df[\"oct\"] = pd.to_numeric(vev_df[\"oct\"])\n",
    "vev_df[\"nov\"] = pd.to_numeric(vev_df[\"nov\"])\n",
    "vev_df[\"dec\"] = pd.to_numeric(vev_df[\"dec\"])"
   ]
  },
  {
   "cell_type": "code",
   "execution_count": 23,
   "metadata": {},
   "outputs": [
    {
     "data": {
      "text/html": [
       "<div>\n",
       "<style scoped>\n",
       "    .dataframe tbody tr th:only-of-type {\n",
       "        vertical-align: middle;\n",
       "    }\n",
       "\n",
       "    .dataframe tbody tr th {\n",
       "        vertical-align: top;\n",
       "    }\n",
       "\n",
       "    .dataframe thead th {\n",
       "        text-align: right;\n",
       "    }\n",
       "</style>\n",
       "<table border=\"1\" class=\"dataframe\">\n",
       "  <thead>\n",
       "    <tr style=\"text-align: right;\">\n",
       "      <th></th>\n",
       "      <th>product</th>\n",
       "      <th>mktyr</th>\n",
       "      <th>jan</th>\n",
       "      <th>feb</th>\n",
       "      <th>mar</th>\n",
       "      <th>apr</th>\n",
       "      <th>may</th>\n",
       "      <th>jun</th>\n",
       "      <th>jul</th>\n",
       "      <th>aug</th>\n",
       "      <th>sep</th>\n",
       "      <th>oct</th>\n",
       "      <th>nov</th>\n",
       "      <th>dec</th>\n",
       "    </tr>\n",
       "  </thead>\n",
       "  <tbody>\n",
       "    <tr>\n",
       "      <th>11</th>\n",
       "      <td>broccoli</td>\n",
       "      <td>2018.0</td>\n",
       "      <td>9423</td>\n",
       "      <td>8442</td>\n",
       "      <td>9187</td>\n",
       "      <td>10525</td>\n",
       "      <td>9467</td>\n",
       "      <td>9664</td>\n",
       "      <td>6865</td>\n",
       "      <td>6891</td>\n",
       "      <td>8128</td>\n",
       "      <td>8400</td>\n",
       "      <td>8584</td>\n",
       "      <td>9157</td>\n",
       "    </tr>\n",
       "    <tr>\n",
       "      <th>12</th>\n",
       "      <td>broccoli</td>\n",
       "      <td>2017.0</td>\n",
       "      <td>8472</td>\n",
       "      <td>8197</td>\n",
       "      <td>8164</td>\n",
       "      <td>8933</td>\n",
       "      <td>9908</td>\n",
       "      <td>10528</td>\n",
       "      <td>7474</td>\n",
       "      <td>6586</td>\n",
       "      <td>5626</td>\n",
       "      <td>5586</td>\n",
       "      <td>9204</td>\n",
       "      <td>9472</td>\n",
       "    </tr>\n",
       "    <tr>\n",
       "      <th>13</th>\n",
       "      <td>broccoli</td>\n",
       "      <td>2016.0</td>\n",
       "      <td>11011</td>\n",
       "      <td>8768</td>\n",
       "      <td>11019</td>\n",
       "      <td>13129</td>\n",
       "      <td>11740</td>\n",
       "      <td>10830</td>\n",
       "      <td>7156</td>\n",
       "      <td>7584</td>\n",
       "      <td>9029</td>\n",
       "      <td>10145</td>\n",
       "      <td>10362</td>\n",
       "      <td>8889</td>\n",
       "    </tr>\n",
       "    <tr>\n",
       "      <th>14</th>\n",
       "      <td>broccoli</td>\n",
       "      <td>2015.0</td>\n",
       "      <td>10521</td>\n",
       "      <td>9769</td>\n",
       "      <td>10227</td>\n",
       "      <td>13467</td>\n",
       "      <td>13274</td>\n",
       "      <td>11550</td>\n",
       "      <td>8444</td>\n",
       "      <td>7708</td>\n",
       "      <td>8022</td>\n",
       "      <td>8552</td>\n",
       "      <td>8111</td>\n",
       "      <td>10317</td>\n",
       "    </tr>\n",
       "    <tr>\n",
       "      <th>16</th>\n",
       "      <td>carrot</td>\n",
       "      <td>2018.0</td>\n",
       "      <td>7376</td>\n",
       "      <td>6403</td>\n",
       "      <td>9282</td>\n",
       "      <td>9089</td>\n",
       "      <td>9372</td>\n",
       "      <td>8738</td>\n",
       "      <td>6227</td>\n",
       "      <td>3320</td>\n",
       "      <td>2755</td>\n",
       "      <td>2982</td>\n",
       "      <td>4839</td>\n",
       "      <td>7347</td>\n",
       "    </tr>\n",
       "  </tbody>\n",
       "</table>\n",
       "</div>"
      ],
      "text/plain": [
       "     product   mktyr    jan   feb    mar    apr    may    jun   jul   aug  \\\n",
       "11  broccoli  2018.0   9423  8442   9187  10525   9467   9664  6865  6891   \n",
       "12  broccoli  2017.0   8472  8197   8164   8933   9908  10528  7474  6586   \n",
       "13  broccoli  2016.0  11011  8768  11019  13129  11740  10830  7156  7584   \n",
       "14  broccoli  2015.0  10521  9769  10227  13467  13274  11550  8444  7708   \n",
       "16    carrot  2018.0   7376  6403   9282   9089   9372   8738  6227  3320   \n",
       "\n",
       "     sep    oct    nov    dec  \n",
       "11  8128   8400   8584   9157  \n",
       "12  5626   5586   9204   9472  \n",
       "13  9029  10145  10362   8889  \n",
       "14  8022   8552   8111  10317  \n",
       "16  2755   2982   4839   7347  "
      ]
     },
     "execution_count": 23,
     "metadata": {},
     "output_type": "execute_result"
    }
   ],
   "source": [
    "vev_df.head()"
   ]
  },
  {
   "cell_type": "code",
   "execution_count": 24,
   "metadata": {},
   "outputs": [],
   "source": [
    "e_frames = [vev_df, fev_df]\n",
    "export_all = pd.concat(e_frames,ignore_index=False)"
   ]
  },
  {
   "cell_type": "code",
   "execution_count": 25,
   "metadata": {},
   "outputs": [
    {
     "data": {
      "text/html": [
       "<div>\n",
       "<style scoped>\n",
       "    .dataframe tbody tr th:only-of-type {\n",
       "        vertical-align: middle;\n",
       "    }\n",
       "\n",
       "    .dataframe tbody tr th {\n",
       "        vertical-align: top;\n",
       "    }\n",
       "\n",
       "    .dataframe thead th {\n",
       "        text-align: right;\n",
       "    }\n",
       "</style>\n",
       "<table border=\"1\" class=\"dataframe\">\n",
       "  <thead>\n",
       "    <tr style=\"text-align: right;\">\n",
       "      <th></th>\n",
       "      <th>product</th>\n",
       "      <th>mktyr</th>\n",
       "      <th>jan</th>\n",
       "      <th>feb</th>\n",
       "      <th>mar</th>\n",
       "      <th>apr</th>\n",
       "      <th>may</th>\n",
       "      <th>jun</th>\n",
       "      <th>jul</th>\n",
       "      <th>aug</th>\n",
       "      <th>sep</th>\n",
       "      <th>oct</th>\n",
       "      <th>nov</th>\n",
       "      <th>dec</th>\n",
       "    </tr>\n",
       "  </thead>\n",
       "  <tbody>\n",
       "    <tr>\n",
       "      <th>83</th>\n",
       "      <td>Pears</td>\n",
       "      <td>2015.0</td>\n",
       "      <td>21505</td>\n",
       "      <td>15001</td>\n",
       "      <td>13644</td>\n",
       "      <td>10299</td>\n",
       "      <td>8132</td>\n",
       "      <td>7412</td>\n",
       "      <td>10160</td>\n",
       "      <td>10844</td>\n",
       "      <td>19248</td>\n",
       "      <td>25402</td>\n",
       "      <td>26682</td>\n",
       "      <td>19393</td>\n",
       "    </tr>\n",
       "    <tr>\n",
       "      <th>100</th>\n",
       "      <td>Strawberries</td>\n",
       "      <td>2018.0</td>\n",
       "      <td>17496</td>\n",
       "      <td>27533</td>\n",
       "      <td>24395</td>\n",
       "      <td>43220</td>\n",
       "      <td>59794</td>\n",
       "      <td>49719</td>\n",
       "      <td>40222</td>\n",
       "      <td>40303</td>\n",
       "      <td>42563</td>\n",
       "      <td>39983</td>\n",
       "      <td>27254</td>\n",
       "      <td>15318</td>\n",
       "    </tr>\n",
       "    <tr>\n",
       "      <th>101</th>\n",
       "      <td>Strawberries</td>\n",
       "      <td>2017.0</td>\n",
       "      <td>14249</td>\n",
       "      <td>18296</td>\n",
       "      <td>29821</td>\n",
       "      <td>40112</td>\n",
       "      <td>50452</td>\n",
       "      <td>52969</td>\n",
       "      <td>44915</td>\n",
       "      <td>40847</td>\n",
       "      <td>40378</td>\n",
       "      <td>37616</td>\n",
       "      <td>25847</td>\n",
       "      <td>21020</td>\n",
       "    </tr>\n",
       "    <tr>\n",
       "      <th>102</th>\n",
       "      <td>Strawberries</td>\n",
       "      <td>2016.0</td>\n",
       "      <td>11004</td>\n",
       "      <td>20414</td>\n",
       "      <td>35624</td>\n",
       "      <td>35771</td>\n",
       "      <td>60551</td>\n",
       "      <td>49340</td>\n",
       "      <td>41845</td>\n",
       "      <td>41045</td>\n",
       "      <td>43948</td>\n",
       "      <td>31276</td>\n",
       "      <td>18475</td>\n",
       "      <td>16889</td>\n",
       "    </tr>\n",
       "    <tr>\n",
       "      <th>103</th>\n",
       "      <td>Strawberries</td>\n",
       "      <td>2015.0</td>\n",
       "      <td>22901</td>\n",
       "      <td>29747</td>\n",
       "      <td>38022</td>\n",
       "      <td>36743</td>\n",
       "      <td>55606</td>\n",
       "      <td>47085</td>\n",
       "      <td>38872</td>\n",
       "      <td>34588</td>\n",
       "      <td>34556</td>\n",
       "      <td>28249</td>\n",
       "      <td>12974</td>\n",
       "      <td>15629</td>\n",
       "    </tr>\n",
       "  </tbody>\n",
       "</table>\n",
       "</div>"
      ],
      "text/plain": [
       "          product   mktyr    jan    feb    mar    apr    may    jun    jul  \\\n",
       "83          Pears  2015.0  21505  15001  13644  10299   8132   7412  10160   \n",
       "100  Strawberries  2018.0  17496  27533  24395  43220  59794  49719  40222   \n",
       "101  Strawberries  2017.0  14249  18296  29821  40112  50452  52969  44915   \n",
       "102  Strawberries  2016.0  11004  20414  35624  35771  60551  49340  41845   \n",
       "103  Strawberries  2015.0  22901  29747  38022  36743  55606  47085  38872   \n",
       "\n",
       "       aug    sep    oct    nov    dec  \n",
       "83   10844  19248  25402  26682  19393  \n",
       "100  40303  42563  39983  27254  15318  \n",
       "101  40847  40378  37616  25847  21020  \n",
       "102  41045  43948  31276  18475  16889  \n",
       "103  34588  34556  28249  12974  15629  "
      ]
     },
     "execution_count": 25,
     "metadata": {},
     "output_type": "execute_result"
    }
   ],
   "source": [
    "export_all.tail()"
   ]
  },
  {
   "cell_type": "code",
   "execution_count": 26,
   "metadata": {},
   "outputs": [],
   "source": [
    "export_all[\"year_sum\"]=export_all[\"jan\"]+export_all[\"feb\"]+export_all[\"mar\"]+export_all[\"jan\"]+export_all[\"feb\"]+export_all[\"mar\"]+export_all[\"apr\"]+export_all[\"may\"]+export_all[\"jun\"]+export_all[\"jul\"]+export_all[\"aug\"]+export_all[\"sep\"]+export_all[\"oct\"]+export_all[\"nov\"]+export_all[\"dec\"]"
   ]
  },
  {
   "cell_type": "code",
   "execution_count": 27,
   "metadata": {},
   "outputs": [
    {
     "data": {
      "text/html": [
       "<div>\n",
       "<style scoped>\n",
       "    .dataframe tbody tr th:only-of-type {\n",
       "        vertical-align: middle;\n",
       "    }\n",
       "\n",
       "    .dataframe tbody tr th {\n",
       "        vertical-align: top;\n",
       "    }\n",
       "\n",
       "    .dataframe thead th {\n",
       "        text-align: right;\n",
       "    }\n",
       "</style>\n",
       "<table border=\"1\" class=\"dataframe\">\n",
       "  <thead>\n",
       "    <tr style=\"text-align: right;\">\n",
       "      <th></th>\n",
       "      <th>product</th>\n",
       "      <th>mktyr</th>\n",
       "      <th>jan</th>\n",
       "      <th>feb</th>\n",
       "      <th>mar</th>\n",
       "      <th>apr</th>\n",
       "      <th>may</th>\n",
       "      <th>jun</th>\n",
       "      <th>jul</th>\n",
       "      <th>aug</th>\n",
       "      <th>sep</th>\n",
       "      <th>oct</th>\n",
       "      <th>nov</th>\n",
       "      <th>dec</th>\n",
       "      <th>year_sum</th>\n",
       "    </tr>\n",
       "  </thead>\n",
       "  <tbody>\n",
       "    <tr>\n",
       "      <th>11</th>\n",
       "      <td>broccoli</td>\n",
       "      <td>2018.0</td>\n",
       "      <td>9423</td>\n",
       "      <td>8442</td>\n",
       "      <td>9187</td>\n",
       "      <td>10525</td>\n",
       "      <td>9467</td>\n",
       "      <td>9664</td>\n",
       "      <td>6865</td>\n",
       "      <td>6891</td>\n",
       "      <td>8128</td>\n",
       "      <td>8400</td>\n",
       "      <td>8584</td>\n",
       "      <td>9157</td>\n",
       "      <td>131785</td>\n",
       "    </tr>\n",
       "    <tr>\n",
       "      <th>12</th>\n",
       "      <td>broccoli</td>\n",
       "      <td>2017.0</td>\n",
       "      <td>8472</td>\n",
       "      <td>8197</td>\n",
       "      <td>8164</td>\n",
       "      <td>8933</td>\n",
       "      <td>9908</td>\n",
       "      <td>10528</td>\n",
       "      <td>7474</td>\n",
       "      <td>6586</td>\n",
       "      <td>5626</td>\n",
       "      <td>5586</td>\n",
       "      <td>9204</td>\n",
       "      <td>9472</td>\n",
       "      <td>122983</td>\n",
       "    </tr>\n",
       "    <tr>\n",
       "      <th>13</th>\n",
       "      <td>broccoli</td>\n",
       "      <td>2016.0</td>\n",
       "      <td>11011</td>\n",
       "      <td>8768</td>\n",
       "      <td>11019</td>\n",
       "      <td>13129</td>\n",
       "      <td>11740</td>\n",
       "      <td>10830</td>\n",
       "      <td>7156</td>\n",
       "      <td>7584</td>\n",
       "      <td>9029</td>\n",
       "      <td>10145</td>\n",
       "      <td>10362</td>\n",
       "      <td>8889</td>\n",
       "      <td>150460</td>\n",
       "    </tr>\n",
       "  </tbody>\n",
       "</table>\n",
       "</div>"
      ],
      "text/plain": [
       "     product   mktyr    jan   feb    mar    apr    may    jun   jul   aug  \\\n",
       "11  broccoli  2018.0   9423  8442   9187  10525   9467   9664  6865  6891   \n",
       "12  broccoli  2017.0   8472  8197   8164   8933   9908  10528  7474  6586   \n",
       "13  broccoli  2016.0  11011  8768  11019  13129  11740  10830  7156  7584   \n",
       "\n",
       "     sep    oct    nov   dec  year_sum  \n",
       "11  8128   8400   8584  9157    131785  \n",
       "12  5626   5586   9204  9472    122983  \n",
       "13  9029  10145  10362  8889    150460  "
      ]
     },
     "execution_count": 27,
     "metadata": {},
     "output_type": "execute_result"
    }
   ],
   "source": [
    "export_all.head(3)"
   ]
  },
  {
   "cell_type": "code",
   "execution_count": 28,
   "metadata": {},
   "outputs": [
    {
     "data": {
      "text/plain": [
       "12"
      ]
     },
     "execution_count": 28,
     "metadata": {},
     "output_type": "execute_result"
    }
   ],
   "source": [
    "export_all[\"product\"].nunique()"
   ]
  },
  {
   "cell_type": "code",
   "execution_count": 29,
   "metadata": {},
   "outputs": [
    {
     "data": {
      "text/html": [
       "<div>\n",
       "<style scoped>\n",
       "    .dataframe tbody tr th:only-of-type {\n",
       "        vertical-align: middle;\n",
       "    }\n",
       "\n",
       "    .dataframe tbody tr th {\n",
       "        vertical-align: top;\n",
       "    }\n",
       "\n",
       "    .dataframe thead th {\n",
       "        text-align: right;\n",
       "    }\n",
       "</style>\n",
       "<table border=\"1\" class=\"dataframe\">\n",
       "  <thead>\n",
       "    <tr style=\"text-align: right;\">\n",
       "      <th></th>\n",
       "      <th>product</th>\n",
       "      <th>mktyr</th>\n",
       "      <th>jan</th>\n",
       "      <th>feb</th>\n",
       "      <th>mar</th>\n",
       "      <th>apr</th>\n",
       "      <th>may</th>\n",
       "      <th>jun</th>\n",
       "      <th>jul</th>\n",
       "      <th>aug</th>\n",
       "      <th>sep</th>\n",
       "      <th>oct</th>\n",
       "      <th>nov</th>\n",
       "      <th>dec</th>\n",
       "      <th>year_sum</th>\n",
       "    </tr>\n",
       "  </thead>\n",
       "  <tbody>\n",
       "    <tr>\n",
       "      <th>11</th>\n",
       "      <td>broccoli</td>\n",
       "      <td>2018.0</td>\n",
       "      <td>9423</td>\n",
       "      <td>8442</td>\n",
       "      <td>9187</td>\n",
       "      <td>10525</td>\n",
       "      <td>9467</td>\n",
       "      <td>9664</td>\n",
       "      <td>6865</td>\n",
       "      <td>6891</td>\n",
       "      <td>8128</td>\n",
       "      <td>8400</td>\n",
       "      <td>8584</td>\n",
       "      <td>9157</td>\n",
       "      <td>131785</td>\n",
       "    </tr>\n",
       "    <tr>\n",
       "      <th>12</th>\n",
       "      <td>broccoli</td>\n",
       "      <td>2017.0</td>\n",
       "      <td>8472</td>\n",
       "      <td>8197</td>\n",
       "      <td>8164</td>\n",
       "      <td>8933</td>\n",
       "      <td>9908</td>\n",
       "      <td>10528</td>\n",
       "      <td>7474</td>\n",
       "      <td>6586</td>\n",
       "      <td>5626</td>\n",
       "      <td>5586</td>\n",
       "      <td>9204</td>\n",
       "      <td>9472</td>\n",
       "      <td>122983</td>\n",
       "    </tr>\n",
       "    <tr>\n",
       "      <th>13</th>\n",
       "      <td>broccoli</td>\n",
       "      <td>2016.0</td>\n",
       "      <td>11011</td>\n",
       "      <td>8768</td>\n",
       "      <td>11019</td>\n",
       "      <td>13129</td>\n",
       "      <td>11740</td>\n",
       "      <td>10830</td>\n",
       "      <td>7156</td>\n",
       "      <td>7584</td>\n",
       "      <td>9029</td>\n",
       "      <td>10145</td>\n",
       "      <td>10362</td>\n",
       "      <td>8889</td>\n",
       "      <td>150460</td>\n",
       "    </tr>\n",
       "    <tr>\n",
       "      <th>14</th>\n",
       "      <td>broccoli</td>\n",
       "      <td>2015.0</td>\n",
       "      <td>10521</td>\n",
       "      <td>9769</td>\n",
       "      <td>10227</td>\n",
       "      <td>13467</td>\n",
       "      <td>13274</td>\n",
       "      <td>11550</td>\n",
       "      <td>8444</td>\n",
       "      <td>7708</td>\n",
       "      <td>8022</td>\n",
       "      <td>8552</td>\n",
       "      <td>8111</td>\n",
       "      <td>10317</td>\n",
       "      <td>150479</td>\n",
       "    </tr>\n",
       "    <tr>\n",
       "      <th>16</th>\n",
       "      <td>carrot</td>\n",
       "      <td>2018.0</td>\n",
       "      <td>7376</td>\n",
       "      <td>6403</td>\n",
       "      <td>9282</td>\n",
       "      <td>9089</td>\n",
       "      <td>9372</td>\n",
       "      <td>8738</td>\n",
       "      <td>6227</td>\n",
       "      <td>3320</td>\n",
       "      <td>2755</td>\n",
       "      <td>2982</td>\n",
       "      <td>4839</td>\n",
       "      <td>7347</td>\n",
       "      <td>100791</td>\n",
       "    </tr>\n",
       "  </tbody>\n",
       "</table>\n",
       "</div>"
      ],
      "text/plain": [
       "     product   mktyr    jan   feb    mar    apr    may    jun   jul   aug  \\\n",
       "11  broccoli  2018.0   9423  8442   9187  10525   9467   9664  6865  6891   \n",
       "12  broccoli  2017.0   8472  8197   8164   8933   9908  10528  7474  6586   \n",
       "13  broccoli  2016.0  11011  8768  11019  13129  11740  10830  7156  7584   \n",
       "14  broccoli  2015.0  10521  9769  10227  13467  13274  11550  8444  7708   \n",
       "16    carrot  2018.0   7376  6403   9282   9089   9372   8738  6227  3320   \n",
       "\n",
       "     sep    oct    nov    dec  year_sum  \n",
       "11  8128   8400   8584   9157    131785  \n",
       "12  5626   5586   9204   9472    122983  \n",
       "13  9029  10145  10362   8889    150460  \n",
       "14  8022   8552   8111  10317    150479  \n",
       "16  2755   2982   4839   7347    100791  "
      ]
     },
     "execution_count": 29,
     "metadata": {},
     "output_type": "execute_result"
    }
   ],
   "source": [
    "export_all.head()"
   ]
  },
  {
   "cell_type": "code",
   "execution_count": 30,
   "metadata": {},
   "outputs": [],
   "source": [
    "broccoli_all = export_all[(export_all['product']=='Broccoli')]\n",
    "# broc_2019 = pd.DataFrame({\"product\":[\"Broccoli\"],\"mktyr\":[\"2019\"], \"jan\":[0],\"feb\":[0],\"mar\":[0],\"apr\":[0],\"may\":[0],\"jun\":[0],\"jul\":[0],\"aug\":[0],\"sep\":[0],\"oct\":[0],\"nov\":[0],\"dec\":[0],\"year_sum\":[0]})\n",
    "# broccoli_all.append(broc_2019).reset_index() \n",
    "broccoli_2015 = export_all[(export_all['mktyr'] == 2015.0) & (export_all['product']=='Broccoli')].reset_index()\n",
    "broccoli_2015_new = broccoli_2015[['jan','feb', 'mar','apr','may','jun','jul','aug','sep','oct', 'nov', 'dec']]\n",
    "ren_broccoli_2015 = broccoli_2015_new.rename(columns={\"jan\":\"m1\", \"feb\":\"m2\", \"mar\":\"m3\", \"apr\":\"m4\", \"may\":\"m5\", \"jun\":\"m6\", \"jul\":\"m7\",\"aug\":\"m8\",\"sep\":\"m9\",\"oct\":\"m10\",\"nov\":\"m11\", \"dec\":\"m12\"})\n",
    "broccoli_2016 = export_all[(export_all['mktyr'] == 2016.0) & (export_all['product']=='Broccoli')].reset_index()\n",
    "broccoli_2016_new = broccoli_2016[['jan','feb', 'mar','apr','may','jun','jul','aug','sep','oct', 'nov', 'dec']]\n",
    "ren_broccoli_2016 = broccoli_2016_new.rename(columns={\"jan\":\"m13\", \"feb\":\"m14\", \"mar\":\"m15\", \"apr\":\"m16\", \"may\":\"m17\", \"jun\":\"m18\", \"jul\":\"m19\",\"aug\":\"m20\",\"sep\":\"m21\",\"oct\":\"m22\",\"nov\":\"m23\", \"dec\":\"m24\"})\n",
    "broccoli_2017 = export_all[(export_all['mktyr'] == 2017.0) & (export_all['product']=='Broccoli')].reset_index()\n",
    "broccoli_2017_new = broccoli_2017[['jan','feb', 'mar','apr','may','jun','jul','aug','sep','oct', 'nov', 'dec']]\n",
    "ren_broccoli_2017 = broccoli_2017_new.rename(columns={\"jan\":\"m25\", \"feb\":\"m26\", \"mar\":\"m27\", \"apr\":\"m28\", \"may\":\"m29\", \"jun\":\"m30\", \"jul\":\"m31\",\"aug\":\"m32\",\"sep\":\"m33\",\"oct\":\"m34\",\"nov\":\"m35\", \"dec\":\"m36\"})\n",
    "broccoli_2018 = export_all[(export_all['mktyr'] == 2018.0) & (export_all['product']=='Broccoli')].reset_index()\n",
    "broccoli_2018_new = broccoli_2018[['jan','feb', 'mar','apr','may','jun','jul','aug','sep','oct', 'nov', 'dec']]\n",
    "ren_broccoli_2018 = broccoli_2018_new.rename(columns={\"jan\":\"m37\", \"feb\":\"m38\", \"mar\":\"m39\", \"apr\":\"m40\", \"may\":\"m41\", \"jun\":\"m42\", \"jul\":\"m43\",\"aug\":\"m44\",\"sep\":\"m45\",\"oct\":\"m46\",\"nov\":\"m47\", \"dec\":\"m48\"})\n"
   ]
  },
  {
   "cell_type": "code",
   "execution_count": 31,
   "metadata": {},
   "outputs": [
    {
     "data": {
      "text/html": [
       "<div>\n",
       "<style scoped>\n",
       "    .dataframe tbody tr th:only-of-type {\n",
       "        vertical-align: middle;\n",
       "    }\n",
       "\n",
       "    .dataframe tbody tr th {\n",
       "        vertical-align: top;\n",
       "    }\n",
       "\n",
       "    .dataframe thead th {\n",
       "        text-align: right;\n",
       "    }\n",
       "</style>\n",
       "<table border=\"1\" class=\"dataframe\">\n",
       "  <thead>\n",
       "    <tr style=\"text-align: right;\">\n",
       "      <th></th>\n",
       "      <th>month</th>\n",
       "      <th>mo</th>\n",
       "    </tr>\n",
       "  </thead>\n",
       "  <tbody>\n",
       "    <tr>\n",
       "      <th>0</th>\n",
       "      <td>m1</td>\n",
       "      <td>0</td>\n",
       "    </tr>\n",
       "    <tr>\n",
       "      <th>1</th>\n",
       "      <td>m2</td>\n",
       "      <td>1</td>\n",
       "    </tr>\n",
       "    <tr>\n",
       "      <th>2</th>\n",
       "      <td>m3</td>\n",
       "      <td>2</td>\n",
       "    </tr>\n",
       "    <tr>\n",
       "      <th>3</th>\n",
       "      <td>m4</td>\n",
       "      <td>3</td>\n",
       "    </tr>\n",
       "    <tr>\n",
       "      <th>4</th>\n",
       "      <td>m5</td>\n",
       "      <td>4</td>\n",
       "    </tr>\n",
       "  </tbody>\n",
       "</table>\n",
       "</div>"
      ],
      "text/plain": [
       "  month  mo\n",
       "0    m1   0\n",
       "1    m2   1\n",
       "2    m3   2\n",
       "3    m4   3\n",
       "4    m5   4"
      ]
     },
     "execution_count": 31,
     "metadata": {},
     "output_type": "execute_result"
    }
   ],
   "source": [
    "broc = ren_broccoli_2015.join([ren_broccoli_2016, ren_broccoli_2017, ren_broccoli_2018], how='outer')\n",
    "trans_broc = broc.T \n",
    "broc_final = trans_broc.reset_index()\n",
    "broc_data = broc_final.rename(columns={\"index\": \"month\", 0: \"value\"})\n",
    "broc_data['mo'] = broc_data.index\n",
    "broc_data.head()"
   ]
  },
  {
   "cell_type": "code",
   "execution_count": 32,
   "metadata": {},
   "outputs": [
    {
     "ename": "KeyError",
     "evalue": "\"['value'] not in index\"",
     "output_type": "error",
     "traceback": [
      "\u001b[0;31m---------------------------------------------------------------------------\u001b[0m",
      "\u001b[0;31mKeyError\u001b[0m                                  Traceback (most recent call last)",
      "\u001b[0;32m<ipython-input-32-5e607562128c>\u001b[0m in \u001b[0;36m<module>\u001b[0;34m\u001b[0m\n\u001b[0;32m----> 1\u001b[0;31m \u001b[0mbroc_fin\u001b[0m\u001b[0;34m=\u001b[0m\u001b[0mbroc_data\u001b[0m\u001b[0;34m[\u001b[0m\u001b[0;34m[\u001b[0m\u001b[0;34m\"mo\"\u001b[0m\u001b[0;34m,\u001b[0m \u001b[0;34m\"value\"\u001b[0m\u001b[0;34m]\u001b[0m\u001b[0;34m]\u001b[0m\u001b[0;34m\u001b[0m\u001b[0;34m\u001b[0m\u001b[0m\n\u001b[0m\u001b[1;32m      2\u001b[0m \u001b[0mbroc_fin\u001b[0m\u001b[0;34m.\u001b[0m\u001b[0mindex\u001b[0m \u001b[0;34m=\u001b[0m \u001b[0mbroc_fin\u001b[0m\u001b[0;34m.\u001b[0m\u001b[0mmo\u001b[0m\u001b[0;34m\u001b[0m\u001b[0;34m\u001b[0m\u001b[0m\n\u001b[1;32m      3\u001b[0m \u001b[0mbroc_fin\u001b[0m\u001b[0;34m.\u001b[0m\u001b[0mdrop\u001b[0m\u001b[0;34m(\u001b[0m\u001b[0;34m'mo'\u001b[0m\u001b[0;34m,\u001b[0m \u001b[0maxis\u001b[0m\u001b[0;34m=\u001b[0m\u001b[0;36m1\u001b[0m\u001b[0;34m,\u001b[0m \u001b[0minplace\u001b[0m\u001b[0;34m=\u001b[0m\u001b[0;32mTrue\u001b[0m\u001b[0;34m)\u001b[0m\u001b[0;34m\u001b[0m\u001b[0;34m\u001b[0m\u001b[0m\n\u001b[1;32m      4\u001b[0m \u001b[0mbroc_fin\u001b[0m\u001b[0;34m.\u001b[0m\u001b[0mhead\u001b[0m\u001b[0;34m(\u001b[0m\u001b[0;34m)\u001b[0m\u001b[0;34m\u001b[0m\u001b[0;34m\u001b[0m\u001b[0m\n\u001b[1;32m      5\u001b[0m \u001b[0mbroc_fin\u001b[0m\u001b[0;34m.\u001b[0m\u001b[0mto_csv\u001b[0m\u001b[0;34m(\u001b[0m\u001b[0;34m'dset/broc.csv'\u001b[0m\u001b[0;34m)\u001b[0m\u001b[0;34m\u001b[0m\u001b[0;34m\u001b[0m\u001b[0m\n",
      "\u001b[0;32m/anaconda3/lib/python3.7/site-packages/pandas/core/frame.py\u001b[0m in \u001b[0;36m__getitem__\u001b[0;34m(self, key)\u001b[0m\n\u001b[1;32m   2932\u001b[0m                 \u001b[0mkey\u001b[0m \u001b[0;34m=\u001b[0m \u001b[0mlist\u001b[0m\u001b[0;34m(\u001b[0m\u001b[0mkey\u001b[0m\u001b[0;34m)\u001b[0m\u001b[0;34m\u001b[0m\u001b[0;34m\u001b[0m\u001b[0m\n\u001b[1;32m   2933\u001b[0m             indexer = self.loc._convert_to_indexer(key, axis=1,\n\u001b[0;32m-> 2934\u001b[0;31m                                                    raise_missing=True)\n\u001b[0m\u001b[1;32m   2935\u001b[0m \u001b[0;34m\u001b[0m\u001b[0m\n\u001b[1;32m   2936\u001b[0m         \u001b[0;31m# take() does not accept boolean indexers\u001b[0m\u001b[0;34m\u001b[0m\u001b[0;34m\u001b[0m\u001b[0;34m\u001b[0m\u001b[0m\n",
      "\u001b[0;32m/anaconda3/lib/python3.7/site-packages/pandas/core/indexing.py\u001b[0m in \u001b[0;36m_convert_to_indexer\u001b[0;34m(self, obj, axis, is_setter, raise_missing)\u001b[0m\n\u001b[1;32m   1352\u001b[0m                 kwargs = {'raise_missing': True if is_setter else\n\u001b[1;32m   1353\u001b[0m                           raise_missing}\n\u001b[0;32m-> 1354\u001b[0;31m                 \u001b[0;32mreturn\u001b[0m \u001b[0mself\u001b[0m\u001b[0;34m.\u001b[0m\u001b[0m_get_listlike_indexer\u001b[0m\u001b[0;34m(\u001b[0m\u001b[0mobj\u001b[0m\u001b[0;34m,\u001b[0m \u001b[0maxis\u001b[0m\u001b[0;34m,\u001b[0m \u001b[0;34m**\u001b[0m\u001b[0mkwargs\u001b[0m\u001b[0;34m)\u001b[0m\u001b[0;34m[\u001b[0m\u001b[0;36m1\u001b[0m\u001b[0;34m]\u001b[0m\u001b[0;34m\u001b[0m\u001b[0;34m\u001b[0m\u001b[0m\n\u001b[0m\u001b[1;32m   1355\u001b[0m         \u001b[0;32melse\u001b[0m\u001b[0;34m:\u001b[0m\u001b[0;34m\u001b[0m\u001b[0;34m\u001b[0m\u001b[0m\n\u001b[1;32m   1356\u001b[0m             \u001b[0;32mtry\u001b[0m\u001b[0;34m:\u001b[0m\u001b[0;34m\u001b[0m\u001b[0;34m\u001b[0m\u001b[0m\n",
      "\u001b[0;32m/anaconda3/lib/python3.7/site-packages/pandas/core/indexing.py\u001b[0m in \u001b[0;36m_get_listlike_indexer\u001b[0;34m(self, key, axis, raise_missing)\u001b[0m\n\u001b[1;32m   1159\u001b[0m         self._validate_read_indexer(keyarr, indexer,\n\u001b[1;32m   1160\u001b[0m                                     \u001b[0mo\u001b[0m\u001b[0;34m.\u001b[0m\u001b[0m_get_axis_number\u001b[0m\u001b[0;34m(\u001b[0m\u001b[0maxis\u001b[0m\u001b[0;34m)\u001b[0m\u001b[0;34m,\u001b[0m\u001b[0;34m\u001b[0m\u001b[0;34m\u001b[0m\u001b[0m\n\u001b[0;32m-> 1161\u001b[0;31m                                     raise_missing=raise_missing)\n\u001b[0m\u001b[1;32m   1162\u001b[0m         \u001b[0;32mreturn\u001b[0m \u001b[0mkeyarr\u001b[0m\u001b[0;34m,\u001b[0m \u001b[0mindexer\u001b[0m\u001b[0;34m\u001b[0m\u001b[0;34m\u001b[0m\u001b[0m\n\u001b[1;32m   1163\u001b[0m \u001b[0;34m\u001b[0m\u001b[0m\n",
      "\u001b[0;32m/anaconda3/lib/python3.7/site-packages/pandas/core/indexing.py\u001b[0m in \u001b[0;36m_validate_read_indexer\u001b[0;34m(self, key, indexer, axis, raise_missing)\u001b[0m\n\u001b[1;32m   1250\u001b[0m             \u001b[0;32mif\u001b[0m \u001b[0;32mnot\u001b[0m\u001b[0;34m(\u001b[0m\u001b[0mself\u001b[0m\u001b[0;34m.\u001b[0m\u001b[0mname\u001b[0m \u001b[0;34m==\u001b[0m \u001b[0;34m'loc'\u001b[0m \u001b[0;32mand\u001b[0m \u001b[0;32mnot\u001b[0m \u001b[0mraise_missing\u001b[0m\u001b[0;34m)\u001b[0m\u001b[0;34m:\u001b[0m\u001b[0;34m\u001b[0m\u001b[0;34m\u001b[0m\u001b[0m\n\u001b[1;32m   1251\u001b[0m                 \u001b[0mnot_found\u001b[0m \u001b[0;34m=\u001b[0m \u001b[0mlist\u001b[0m\u001b[0;34m(\u001b[0m\u001b[0mset\u001b[0m\u001b[0;34m(\u001b[0m\u001b[0mkey\u001b[0m\u001b[0;34m)\u001b[0m \u001b[0;34m-\u001b[0m \u001b[0mset\u001b[0m\u001b[0;34m(\u001b[0m\u001b[0max\u001b[0m\u001b[0;34m)\u001b[0m\u001b[0;34m)\u001b[0m\u001b[0;34m\u001b[0m\u001b[0;34m\u001b[0m\u001b[0m\n\u001b[0;32m-> 1252\u001b[0;31m                 \u001b[0;32mraise\u001b[0m \u001b[0mKeyError\u001b[0m\u001b[0;34m(\u001b[0m\u001b[0;34m\"{} not in index\"\u001b[0m\u001b[0;34m.\u001b[0m\u001b[0mformat\u001b[0m\u001b[0;34m(\u001b[0m\u001b[0mnot_found\u001b[0m\u001b[0;34m)\u001b[0m\u001b[0;34m)\u001b[0m\u001b[0;34m\u001b[0m\u001b[0;34m\u001b[0m\u001b[0m\n\u001b[0m\u001b[1;32m   1253\u001b[0m \u001b[0;34m\u001b[0m\u001b[0m\n\u001b[1;32m   1254\u001b[0m             \u001b[0;31m# we skip the warning on Categorical/Interval\u001b[0m\u001b[0;34m\u001b[0m\u001b[0;34m\u001b[0m\u001b[0;34m\u001b[0m\u001b[0m\n",
      "\u001b[0;31mKeyError\u001b[0m: \"['value'] not in index\""
     ]
    }
   ],
   "source": [
    "broc_fin=broc_data[[\"mo\", \"value\"]]\n",
    "broc_fin.index = broc_fin.mo\n",
    "broc_fin.drop('mo', axis=1, inplace=True)\n",
    "broc_fin.head()\n",
    "broc_fin.to_csv('dset/broc.csv')\n"
   ]
  },
  {
   "cell_type": "code",
   "execution_count": 33,
   "metadata": {},
   "outputs": [
    {
     "ename": "KeyError",
     "evalue": "'value'",
     "output_type": "error",
     "traceback": [
      "\u001b[0;31m---------------------------------------------------------------------------\u001b[0m",
      "\u001b[0;31mKeyError\u001b[0m                                  Traceback (most recent call last)",
      "\u001b[0;32m/anaconda3/lib/python3.7/site-packages/pandas/core/indexes/base.py\u001b[0m in \u001b[0;36mget_loc\u001b[0;34m(self, key, method, tolerance)\u001b[0m\n\u001b[1;32m   2656\u001b[0m             \u001b[0;32mtry\u001b[0m\u001b[0;34m:\u001b[0m\u001b[0;34m\u001b[0m\u001b[0;34m\u001b[0m\u001b[0m\n\u001b[0;32m-> 2657\u001b[0;31m                 \u001b[0;32mreturn\u001b[0m \u001b[0mself\u001b[0m\u001b[0;34m.\u001b[0m\u001b[0m_engine\u001b[0m\u001b[0;34m.\u001b[0m\u001b[0mget_loc\u001b[0m\u001b[0;34m(\u001b[0m\u001b[0mkey\u001b[0m\u001b[0;34m)\u001b[0m\u001b[0;34m\u001b[0m\u001b[0;34m\u001b[0m\u001b[0m\n\u001b[0m\u001b[1;32m   2658\u001b[0m             \u001b[0;32mexcept\u001b[0m \u001b[0mKeyError\u001b[0m\u001b[0;34m:\u001b[0m\u001b[0;34m\u001b[0m\u001b[0;34m\u001b[0m\u001b[0m\n",
      "\u001b[0;32mpandas/_libs/index.pyx\u001b[0m in \u001b[0;36mpandas._libs.index.IndexEngine.get_loc\u001b[0;34m()\u001b[0m\n",
      "\u001b[0;32mpandas/_libs/index.pyx\u001b[0m in \u001b[0;36mpandas._libs.index.IndexEngine.get_loc\u001b[0;34m()\u001b[0m\n",
      "\u001b[0;32mpandas/_libs/hashtable_class_helper.pxi\u001b[0m in \u001b[0;36mpandas._libs.hashtable.PyObjectHashTable.get_item\u001b[0;34m()\u001b[0m\n",
      "\u001b[0;32mpandas/_libs/hashtable_class_helper.pxi\u001b[0m in \u001b[0;36mpandas._libs.hashtable.PyObjectHashTable.get_item\u001b[0;34m()\u001b[0m\n",
      "\u001b[0;31mKeyError\u001b[0m: 'value'",
      "\nDuring handling of the above exception, another exception occurred:\n",
      "\u001b[0;31mKeyError\u001b[0m                                  Traceback (most recent call last)",
      "\u001b[0;32m<ipython-input-33-39a2a7fa41af>\u001b[0m in \u001b[0;36m<module>\u001b[0;34m\u001b[0m\n\u001b[0;32m----> 1\u001b[0;31m \u001b[0mvalue\u001b[0m \u001b[0;34m=\u001b[0m \u001b[0mbroc_data\u001b[0m\u001b[0;34m[\u001b[0m\u001b[0;34m'value'\u001b[0m\u001b[0;34m]\u001b[0m\u001b[0;34m.\u001b[0m\u001b[0mvalues\u001b[0m\u001b[0;34m\u001b[0m\u001b[0;34m\u001b[0m\u001b[0m\n\u001b[0m\u001b[1;32m      2\u001b[0m \u001b[0mseq_len\u001b[0m \u001b[0;34m=\u001b[0m \u001b[0;36m10\u001b[0m\u001b[0;34m\u001b[0m\u001b[0;34m\u001b[0m\u001b[0m\n\u001b[1;32m      3\u001b[0m \u001b[0msequence_length\u001b[0m \u001b[0;34m=\u001b[0m \u001b[0mseq_len\u001b[0m \u001b[0;34m+\u001b[0m \u001b[0;36m1\u001b[0m\u001b[0;34m\u001b[0m\u001b[0;34m\u001b[0m\u001b[0m\n\u001b[1;32m      4\u001b[0m \u001b[0;34m\u001b[0m\u001b[0m\n\u001b[1;32m      5\u001b[0m \u001b[0mresult\u001b[0m \u001b[0;34m=\u001b[0m \u001b[0;34m[\u001b[0m\u001b[0;34m]\u001b[0m\u001b[0;34m\u001b[0m\u001b[0;34m\u001b[0m\u001b[0m\n",
      "\u001b[0;32m/anaconda3/lib/python3.7/site-packages/pandas/core/frame.py\u001b[0m in \u001b[0;36m__getitem__\u001b[0;34m(self, key)\u001b[0m\n\u001b[1;32m   2925\u001b[0m             \u001b[0;32mif\u001b[0m \u001b[0mself\u001b[0m\u001b[0;34m.\u001b[0m\u001b[0mcolumns\u001b[0m\u001b[0;34m.\u001b[0m\u001b[0mnlevels\u001b[0m \u001b[0;34m>\u001b[0m \u001b[0;36m1\u001b[0m\u001b[0;34m:\u001b[0m\u001b[0;34m\u001b[0m\u001b[0;34m\u001b[0m\u001b[0m\n\u001b[1;32m   2926\u001b[0m                 \u001b[0;32mreturn\u001b[0m \u001b[0mself\u001b[0m\u001b[0;34m.\u001b[0m\u001b[0m_getitem_multilevel\u001b[0m\u001b[0;34m(\u001b[0m\u001b[0mkey\u001b[0m\u001b[0;34m)\u001b[0m\u001b[0;34m\u001b[0m\u001b[0;34m\u001b[0m\u001b[0m\n\u001b[0;32m-> 2927\u001b[0;31m             \u001b[0mindexer\u001b[0m \u001b[0;34m=\u001b[0m \u001b[0mself\u001b[0m\u001b[0;34m.\u001b[0m\u001b[0mcolumns\u001b[0m\u001b[0;34m.\u001b[0m\u001b[0mget_loc\u001b[0m\u001b[0;34m(\u001b[0m\u001b[0mkey\u001b[0m\u001b[0;34m)\u001b[0m\u001b[0;34m\u001b[0m\u001b[0;34m\u001b[0m\u001b[0m\n\u001b[0m\u001b[1;32m   2928\u001b[0m             \u001b[0;32mif\u001b[0m \u001b[0mis_integer\u001b[0m\u001b[0;34m(\u001b[0m\u001b[0mindexer\u001b[0m\u001b[0;34m)\u001b[0m\u001b[0;34m:\u001b[0m\u001b[0;34m\u001b[0m\u001b[0;34m\u001b[0m\u001b[0m\n\u001b[1;32m   2929\u001b[0m                 \u001b[0mindexer\u001b[0m \u001b[0;34m=\u001b[0m \u001b[0;34m[\u001b[0m\u001b[0mindexer\u001b[0m\u001b[0;34m]\u001b[0m\u001b[0;34m\u001b[0m\u001b[0;34m\u001b[0m\u001b[0m\n",
      "\u001b[0;32m/anaconda3/lib/python3.7/site-packages/pandas/core/indexes/base.py\u001b[0m in \u001b[0;36mget_loc\u001b[0;34m(self, key, method, tolerance)\u001b[0m\n\u001b[1;32m   2657\u001b[0m                 \u001b[0;32mreturn\u001b[0m \u001b[0mself\u001b[0m\u001b[0;34m.\u001b[0m\u001b[0m_engine\u001b[0m\u001b[0;34m.\u001b[0m\u001b[0mget_loc\u001b[0m\u001b[0;34m(\u001b[0m\u001b[0mkey\u001b[0m\u001b[0;34m)\u001b[0m\u001b[0;34m\u001b[0m\u001b[0;34m\u001b[0m\u001b[0m\n\u001b[1;32m   2658\u001b[0m             \u001b[0;32mexcept\u001b[0m \u001b[0mKeyError\u001b[0m\u001b[0;34m:\u001b[0m\u001b[0;34m\u001b[0m\u001b[0;34m\u001b[0m\u001b[0m\n\u001b[0;32m-> 2659\u001b[0;31m                 \u001b[0;32mreturn\u001b[0m \u001b[0mself\u001b[0m\u001b[0;34m.\u001b[0m\u001b[0m_engine\u001b[0m\u001b[0;34m.\u001b[0m\u001b[0mget_loc\u001b[0m\u001b[0;34m(\u001b[0m\u001b[0mself\u001b[0m\u001b[0;34m.\u001b[0m\u001b[0m_maybe_cast_indexer\u001b[0m\u001b[0;34m(\u001b[0m\u001b[0mkey\u001b[0m\u001b[0;34m)\u001b[0m\u001b[0;34m)\u001b[0m\u001b[0;34m\u001b[0m\u001b[0;34m\u001b[0m\u001b[0m\n\u001b[0m\u001b[1;32m   2660\u001b[0m         \u001b[0mindexer\u001b[0m \u001b[0;34m=\u001b[0m \u001b[0mself\u001b[0m\u001b[0;34m.\u001b[0m\u001b[0mget_indexer\u001b[0m\u001b[0;34m(\u001b[0m\u001b[0;34m[\u001b[0m\u001b[0mkey\u001b[0m\u001b[0;34m]\u001b[0m\u001b[0;34m,\u001b[0m \u001b[0mmethod\u001b[0m\u001b[0;34m=\u001b[0m\u001b[0mmethod\u001b[0m\u001b[0;34m,\u001b[0m \u001b[0mtolerance\u001b[0m\u001b[0;34m=\u001b[0m\u001b[0mtolerance\u001b[0m\u001b[0;34m)\u001b[0m\u001b[0;34m\u001b[0m\u001b[0;34m\u001b[0m\u001b[0m\n\u001b[1;32m   2661\u001b[0m         \u001b[0;32mif\u001b[0m \u001b[0mindexer\u001b[0m\u001b[0;34m.\u001b[0m\u001b[0mndim\u001b[0m \u001b[0;34m>\u001b[0m \u001b[0;36m1\u001b[0m \u001b[0;32mor\u001b[0m \u001b[0mindexer\u001b[0m\u001b[0;34m.\u001b[0m\u001b[0msize\u001b[0m \u001b[0;34m>\u001b[0m \u001b[0;36m1\u001b[0m\u001b[0;34m:\u001b[0m\u001b[0;34m\u001b[0m\u001b[0;34m\u001b[0m\u001b[0m\n",
      "\u001b[0;32mpandas/_libs/index.pyx\u001b[0m in \u001b[0;36mpandas._libs.index.IndexEngine.get_loc\u001b[0;34m()\u001b[0m\n",
      "\u001b[0;32mpandas/_libs/index.pyx\u001b[0m in \u001b[0;36mpandas._libs.index.IndexEngine.get_loc\u001b[0;34m()\u001b[0m\n",
      "\u001b[0;32mpandas/_libs/hashtable_class_helper.pxi\u001b[0m in \u001b[0;36mpandas._libs.hashtable.PyObjectHashTable.get_item\u001b[0;34m()\u001b[0m\n",
      "\u001b[0;32mpandas/_libs/hashtable_class_helper.pxi\u001b[0m in \u001b[0;36mpandas._libs.hashtable.PyObjectHashTable.get_item\u001b[0;34m()\u001b[0m\n",
      "\u001b[0;31mKeyError\u001b[0m: 'value'"
     ]
    }
   ],
   "source": [
    "value = broc_data['value'].values\n",
    "seq_len = 10\n",
    "sequence_length = seq_len + 1\n",
    "\n",
    "result = []\n",
    "for index in range(len(value) - sequence_length):\n",
    "    result.append(value[index: index + sequence_length])"
   ]
  },
  {
   "cell_type": "code",
   "execution_count": 34,
   "metadata": {},
   "outputs": [
    {
     "ename": "NameError",
     "evalue": "name 'result' is not defined",
     "output_type": "error",
     "traceback": [
      "\u001b[0;31m---------------------------------------------------------------------------\u001b[0m",
      "\u001b[0;31mNameError\u001b[0m                                 Traceback (most recent call last)",
      "\u001b[0;32m<ipython-input-34-4407aa6683f0>\u001b[0m in \u001b[0;36m<module>\u001b[0;34m\u001b[0m\n\u001b[1;32m      1\u001b[0m \u001b[0mnormalized_data\u001b[0m \u001b[0;34m=\u001b[0m \u001b[0;34m[\u001b[0m\u001b[0;34m]\u001b[0m\u001b[0;34m\u001b[0m\u001b[0;34m\u001b[0m\u001b[0m\n\u001b[0;32m----> 2\u001b[0;31m \u001b[0;32mfor\u001b[0m \u001b[0mwindow\u001b[0m \u001b[0;32min\u001b[0m \u001b[0mresult\u001b[0m\u001b[0;34m:\u001b[0m\u001b[0;34m\u001b[0m\u001b[0;34m\u001b[0m\u001b[0m\n\u001b[0m\u001b[1;32m      3\u001b[0m     \u001b[0mnormalized_window\u001b[0m \u001b[0;34m=\u001b[0m \u001b[0;34m[\u001b[0m\u001b[0;34m(\u001b[0m\u001b[0;34m(\u001b[0m\u001b[0mfloat\u001b[0m\u001b[0;34m(\u001b[0m\u001b[0mp\u001b[0m\u001b[0;34m)\u001b[0m \u001b[0;34m/\u001b[0m \u001b[0mfloat\u001b[0m\u001b[0;34m(\u001b[0m\u001b[0mwindow\u001b[0m\u001b[0;34m[\u001b[0m\u001b[0;36m0\u001b[0m\u001b[0;34m]\u001b[0m\u001b[0;34m)\u001b[0m\u001b[0;34m)\u001b[0m \u001b[0;34m-\u001b[0m \u001b[0;36m1\u001b[0m\u001b[0;34m)\u001b[0m \u001b[0;32mfor\u001b[0m \u001b[0mp\u001b[0m \u001b[0;32min\u001b[0m \u001b[0mwindow\u001b[0m\u001b[0;34m]\u001b[0m\u001b[0;34m\u001b[0m\u001b[0;34m\u001b[0m\u001b[0m\n\u001b[1;32m      4\u001b[0m     \u001b[0mnormalized_data\u001b[0m\u001b[0;34m.\u001b[0m\u001b[0mappend\u001b[0m\u001b[0;34m(\u001b[0m\u001b[0mnormalized_window\u001b[0m\u001b[0;34m)\u001b[0m\u001b[0;34m\u001b[0m\u001b[0;34m\u001b[0m\u001b[0m\n\u001b[1;32m      5\u001b[0m \u001b[0;34m\u001b[0m\u001b[0m\n",
      "\u001b[0;31mNameError\u001b[0m: name 'result' is not defined"
     ]
    }
   ],
   "source": [
    "normalized_data = []\n",
    "for window in result:\n",
    "    normalized_window = [((float(p) / float(window[0])) - 1) for p in window]\n",
    "    normalized_data.append(normalized_window)\n",
    "\n",
    "result = np.array(normalized_data)\n",
    "\n",
    "# split train and test data\n",
    "row = int(round(result.shape[0] * 0.9))\n",
    "train = result[:row, :]\n",
    "np.random.shuffle(train)\n",
    "\n",
    "x_train = train[:, :-1]\n",
    "x_train = np.reshape(x_train, (x_train.shape[0], x_train.shape[1], 1))\n",
    "y_train = train[:, -1]\n",
    "\n",
    "x_test = result[row:, :-1]\n",
    "x_test = np.reshape(x_test, (x_test.shape[0], x_test.shape[1], 1))\n",
    "y_test = result[row:, -1]\n",
    "\n",
    "x_train.shape, x_test.shape"
   ]
  },
  {
   "cell_type": "code",
   "execution_count": 35,
   "metadata": {},
   "outputs": [
    {
     "name": "stdout",
     "output_type": "stream",
     "text": [
      "WARNING:tensorflow:From /anaconda3/lib/python3.7/site-packages/tensorflow/python/framework/op_def_library.py:263: colocate_with (from tensorflow.python.framework.ops) is deprecated and will be removed in a future version.\n",
      "Instructions for updating:\n",
      "Colocations handled automatically by placer.\n",
      "_________________________________________________________________\n",
      "Layer (type)                 Output Shape              Param #   \n",
      "=================================================================\n",
      "lstm_1 (LSTM)                (None, 10, 10)            480       \n",
      "_________________________________________________________________\n",
      "lstm_2 (LSTM)                (None, 24)                3360      \n",
      "_________________________________________________________________\n",
      "dense_1 (Dense)              (None, 1)                 25        \n",
      "=================================================================\n",
      "Total params: 3,865\n",
      "Trainable params: 3,865\n",
      "Non-trainable params: 0\n",
      "_________________________________________________________________\n"
     ]
    }
   ],
   "source": [
    "model = Sequential()\n",
    "\n",
    "model.add(LSTM(10, return_sequences=True, input_shape=(10, 1)))\n",
    "\n",
    "model.add(LSTM(24, return_sequences=False))\n",
    "\n",
    "model.add(Dense(1, activation='linear'))\n",
    "\n",
    "model.compile(loss='mse', metrics=['mean_squared_error'],optimizer='nadam')\n",
    "\n",
    "model.summary()"
   ]
  },
  {
   "cell_type": "code",
   "execution_count": 36,
   "metadata": {},
   "outputs": [
    {
     "ename": "NameError",
     "evalue": "name 'x_train' is not defined",
     "output_type": "error",
     "traceback": [
      "\u001b[0;31m---------------------------------------------------------------------------\u001b[0m",
      "\u001b[0;31mNameError\u001b[0m                                 Traceback (most recent call last)",
      "\u001b[0;32m<ipython-input-36-db797e1dc7ed>\u001b[0m in \u001b[0;36m<module>\u001b[0;34m\u001b[0m\n\u001b[0;32m----> 1\u001b[0;31m model.fit(x_train, y_train,\n\u001b[0m\u001b[1;32m      2\u001b[0m     \u001b[0mvalidation_data\u001b[0m\u001b[0;34m=\u001b[0m\u001b[0;34m(\u001b[0m\u001b[0mx_test\u001b[0m\u001b[0;34m,\u001b[0m \u001b[0my_test\u001b[0m\u001b[0;34m)\u001b[0m\u001b[0;34m,\u001b[0m\u001b[0;34m\u001b[0m\u001b[0;34m\u001b[0m\u001b[0m\n\u001b[1;32m      3\u001b[0m     \u001b[0mbatch_size\u001b[0m\u001b[0;34m=\u001b[0m\u001b[0;36m10\u001b[0m\u001b[0;34m,\u001b[0m\u001b[0;34m\u001b[0m\u001b[0;34m\u001b[0m\u001b[0m\n\u001b[1;32m      4\u001b[0m     epochs=30)\n",
      "\u001b[0;31mNameError\u001b[0m: name 'x_train' is not defined"
     ]
    }
   ],
   "source": [
    "model.fit(x_train, y_train,\n",
    "    validation_data=(x_test, y_test),\n",
    "    batch_size=10,\n",
    "    epochs=30)"
   ]
  },
  {
   "cell_type": "code",
   "execution_count": 37,
   "metadata": {},
   "outputs": [],
   "source": [
    "# Save the model\n",
    "model.save(\"broc_model_trained.h5\")"
   ]
  },
  {
   "cell_type": "code",
   "execution_count": 38,
   "metadata": {},
   "outputs": [
    {
     "ename": "NameError",
     "evalue": "name 'x_test' is not defined",
     "output_type": "error",
     "traceback": [
      "\u001b[0;31m---------------------------------------------------------------------------\u001b[0m",
      "\u001b[0;31mNameError\u001b[0m                                 Traceback (most recent call last)",
      "\u001b[0;32m<ipython-input-38-798b5562c029>\u001b[0m in \u001b[0;36m<module>\u001b[0;34m\u001b[0m\n\u001b[0;32m----> 1\u001b[0;31m \u001b[0mpred\u001b[0m \u001b[0;34m=\u001b[0m \u001b[0mmodel\u001b[0m\u001b[0;34m.\u001b[0m\u001b[0mpredict\u001b[0m\u001b[0;34m(\u001b[0m\u001b[0mx_test\u001b[0m\u001b[0;34m)\u001b[0m\u001b[0;34m\u001b[0m\u001b[0;34m\u001b[0m\u001b[0m\n\u001b[0m\u001b[1;32m      2\u001b[0m \u001b[0;34m\u001b[0m\u001b[0m\n\u001b[1;32m      3\u001b[0m \u001b[0mfig\u001b[0m \u001b[0;34m=\u001b[0m \u001b[0mplt\u001b[0m\u001b[0;34m.\u001b[0m\u001b[0mfigure\u001b[0m\u001b[0;34m(\u001b[0m\u001b[0mfacecolor\u001b[0m\u001b[0;34m=\u001b[0m\u001b[0;34m'white'\u001b[0m\u001b[0;34m,\u001b[0m \u001b[0mfigsize\u001b[0m\u001b[0;34m=\u001b[0m\u001b[0;34m(\u001b[0m\u001b[0;36m20\u001b[0m\u001b[0;34m,\u001b[0m \u001b[0;36m10\u001b[0m\u001b[0;34m)\u001b[0m\u001b[0;34m)\u001b[0m\u001b[0;34m\u001b[0m\u001b[0;34m\u001b[0m\u001b[0m\n\u001b[1;32m      4\u001b[0m \u001b[0max\u001b[0m \u001b[0;34m=\u001b[0m \u001b[0mfig\u001b[0m\u001b[0;34m.\u001b[0m\u001b[0madd_subplot\u001b[0m\u001b[0;34m(\u001b[0m\u001b[0;36m111\u001b[0m\u001b[0;34m)\u001b[0m\u001b[0;34m\u001b[0m\u001b[0;34m\u001b[0m\u001b[0m\n\u001b[1;32m      5\u001b[0m \u001b[0max\u001b[0m\u001b[0;34m.\u001b[0m\u001b[0mplot\u001b[0m\u001b[0;34m(\u001b[0m\u001b[0my_test\u001b[0m\u001b[0;34m,\u001b[0m \u001b[0mlabel\u001b[0m\u001b[0;34m=\u001b[0m\u001b[0;34m'True'\u001b[0m\u001b[0;34m)\u001b[0m\u001b[0;34m\u001b[0m\u001b[0;34m\u001b[0m\u001b[0m\n",
      "\u001b[0;31mNameError\u001b[0m: name 'x_test' is not defined"
     ]
    }
   ],
   "source": [
    "pred = model.predict(x_test)\n",
    "\n",
    "fig = plt.figure(facecolor='white', figsize=(20, 10))\n",
    "ax = fig.add_subplot(111)\n",
    "ax.plot(y_test, label='True')\n",
    "ax.plot(pred, label='Prediction')\n",
    "plt.title('Broccoli')\n",
    "ax.legend()\n",
    "plt.show()"
   ]
  },
  {
   "cell_type": "code",
   "execution_count": 39,
   "metadata": {},
   "outputs": [],
   "source": [
    "carrot_2015 = export_all[(export_all['mktyr'] == 2015.0) & (export_all['product']=='Carrot')]\n",
    "carrot_2015 = export_all[(export_all['mktyr'] == 2015.0) & (export_all['product']=='Carrot')].reset_index()\n",
    "carrot_2015_new = carrot_2015[['jan','feb', 'mar','apr','may','jun','jul','aug','sep','oct', 'nov', 'dec']]\n",
    "ren_carrot_2015 = carrot_2015_new.rename(columns={\"jan\":\"m1\", \"feb\":\"m2\", \"mar\":\"m3\", \"apr\":\"m4\", \"may\":\"m5\", \"jun\":\"m6\", \"jul\":\"m7\",\"aug\":\"m8\",\"sep\":\"m9\",\"oct\":\"m10\",\"nov\":\"m11\", \"dec\":\"m12\"})\n",
    "carrot_2016 = export_all[(export_all['mktyr'] == 2016.0) & (export_all['product']=='Carrot')].reset_index()\n",
    "carrot_2016_new = carrot_2016[['jan','feb', 'mar','apr','may','jun','jul','aug','sep','oct', 'nov', 'dec']]\n",
    "ren_carrot_2016 = carrot_2016_new.rename(columns={\"jan\":\"m13\", \"feb\":\"m14\", \"mar\":\"m15\", \"apr\":\"m16\", \"may\":\"m17\", \"jun\":\"m18\", \"jul\":\"m19\",\"aug\":\"m20\",\"sep\":\"m21\",\"oct\":\"m22\",\"nov\":\"m23\", \"dec\":\"m24\"})\n",
    "carrot_2017 = export_all[(export_all['mktyr'] == 2017.0) & (export_all['product']=='Carrot')].reset_index()\n",
    "carrot_2017_new = carrot_2017[['jan','feb', 'mar','apr','may','jun','jul','aug','sep','oct', 'nov', 'dec']]\n",
    "ren_carrot_2017 = carrot_2017_new.rename(columns={\"jan\":\"m25\", \"feb\":\"m26\", \"mar\":\"m27\", \"apr\":\"m28\", \"may\":\"m29\", \"jun\":\"m30\", \"jul\":\"m31\",\"aug\":\"m32\",\"sep\":\"m33\",\"oct\":\"m34\",\"nov\":\"m35\", \"dec\":\"m36\"})\n",
    "carrot_2018 = export_all[(export_all['mktyr'] == 2018.0) & (export_all['product']=='Carrot')].reset_index()\n",
    "carrot_2018_new = carrot_2018[['jan','feb', 'mar','apr','may','jun','jul','aug','sep','oct', 'nov', 'dec']]\n",
    "ren_carrot_2018 = carrot_2018_new.rename(columns={\"jan\":\"m37\", \"feb\":\"m38\", \"mar\":\"m39\", \"apr\":\"m40\", \"may\":\"m41\", \"jun\":\"m42\", \"jul\":\"m43\",\"aug\":\"m44\",\"sep\":\"m45\",\"oct\":\"m46\",\"nov\":\"m47\", \"dec\":\"m48\"})\n"
   ]
  },
  {
   "cell_type": "code",
   "execution_count": 40,
   "metadata": {},
   "outputs": [
    {
     "data": {
      "text/html": [
       "<div>\n",
       "<style scoped>\n",
       "    .dataframe tbody tr th:only-of-type {\n",
       "        vertical-align: middle;\n",
       "    }\n",
       "\n",
       "    .dataframe tbody tr th {\n",
       "        vertical-align: top;\n",
       "    }\n",
       "\n",
       "    .dataframe thead th {\n",
       "        text-align: right;\n",
       "    }\n",
       "</style>\n",
       "<table border=\"1\" class=\"dataframe\">\n",
       "  <thead>\n",
       "    <tr style=\"text-align: right;\">\n",
       "      <th></th>\n",
       "      <th>month</th>\n",
       "      <th>mo</th>\n",
       "    </tr>\n",
       "  </thead>\n",
       "  <tbody>\n",
       "    <tr>\n",
       "      <th>0</th>\n",
       "      <td>m1</td>\n",
       "      <td>0</td>\n",
       "    </tr>\n",
       "    <tr>\n",
       "      <th>1</th>\n",
       "      <td>m2</td>\n",
       "      <td>1</td>\n",
       "    </tr>\n",
       "    <tr>\n",
       "      <th>2</th>\n",
       "      <td>m3</td>\n",
       "      <td>2</td>\n",
       "    </tr>\n",
       "    <tr>\n",
       "      <th>3</th>\n",
       "      <td>m4</td>\n",
       "      <td>3</td>\n",
       "    </tr>\n",
       "    <tr>\n",
       "      <th>4</th>\n",
       "      <td>m5</td>\n",
       "      <td>4</td>\n",
       "    </tr>\n",
       "  </tbody>\n",
       "</table>\n",
       "</div>"
      ],
      "text/plain": [
       "  month  mo\n",
       "0    m1   0\n",
       "1    m2   1\n",
       "2    m3   2\n",
       "3    m4   3\n",
       "4    m5   4"
      ]
     },
     "execution_count": 40,
     "metadata": {},
     "output_type": "execute_result"
    }
   ],
   "source": [
    "carr = ren_carrot_2015.join([ren_carrot_2016, ren_carrot_2017, ren_carrot_2018], how='outer')\n",
    "trans_carr = carr.T \n",
    "carr_final = trans_carr.reset_index()\n",
    "carr_data = carr_final.rename(columns={\"index\": \"month\", 0: \"value\"})\n",
    "carr_data['mo'] = carr_data.index\n",
    "carr_data.head()"
   ]
  },
  {
   "cell_type": "code",
   "execution_count": 41,
   "metadata": {},
   "outputs": [
    {
     "ename": "KeyError",
     "evalue": "\"['value'] not in index\"",
     "output_type": "error",
     "traceback": [
      "\u001b[0;31m---------------------------------------------------------------------------\u001b[0m",
      "\u001b[0;31mKeyError\u001b[0m                                  Traceback (most recent call last)",
      "\u001b[0;32m<ipython-input-41-ca95a76dcf98>\u001b[0m in \u001b[0;36m<module>\u001b[0;34m\u001b[0m\n\u001b[0;32m----> 1\u001b[0;31m \u001b[0mcarr_fin\u001b[0m\u001b[0;34m=\u001b[0m\u001b[0mcarr_data\u001b[0m\u001b[0;34m[\u001b[0m\u001b[0;34m[\u001b[0m\u001b[0;34m\"mo\"\u001b[0m\u001b[0;34m,\u001b[0m \u001b[0;34m\"value\"\u001b[0m\u001b[0;34m]\u001b[0m\u001b[0;34m]\u001b[0m\u001b[0;34m\u001b[0m\u001b[0;34m\u001b[0m\u001b[0m\n\u001b[0m\u001b[1;32m      2\u001b[0m \u001b[0mcarr_fin\u001b[0m\u001b[0;34m.\u001b[0m\u001b[0mindex\u001b[0m \u001b[0;34m=\u001b[0m \u001b[0mcarr_fin\u001b[0m\u001b[0;34m.\u001b[0m\u001b[0mmo\u001b[0m\u001b[0;34m\u001b[0m\u001b[0;34m\u001b[0m\u001b[0m\n\u001b[1;32m      3\u001b[0m \u001b[0mcarr_fin\u001b[0m\u001b[0;34m.\u001b[0m\u001b[0mdrop\u001b[0m\u001b[0;34m(\u001b[0m\u001b[0;34m'mo'\u001b[0m\u001b[0;34m,\u001b[0m \u001b[0maxis\u001b[0m\u001b[0;34m=\u001b[0m\u001b[0;36m1\u001b[0m\u001b[0;34m,\u001b[0m \u001b[0minplace\u001b[0m\u001b[0;34m=\u001b[0m\u001b[0;32mTrue\u001b[0m\u001b[0;34m)\u001b[0m\u001b[0;34m\u001b[0m\u001b[0;34m\u001b[0m\u001b[0m\n\u001b[1;32m      4\u001b[0m \u001b[0mcarr_fin\u001b[0m\u001b[0;34m.\u001b[0m\u001b[0mto_csv\u001b[0m\u001b[0;34m(\u001b[0m\u001b[0;34m'dset/carr.csv'\u001b[0m\u001b[0;34m)\u001b[0m\u001b[0;34m\u001b[0m\u001b[0;34m\u001b[0m\u001b[0m\n",
      "\u001b[0;32m/anaconda3/lib/python3.7/site-packages/pandas/core/frame.py\u001b[0m in \u001b[0;36m__getitem__\u001b[0;34m(self, key)\u001b[0m\n\u001b[1;32m   2932\u001b[0m                 \u001b[0mkey\u001b[0m \u001b[0;34m=\u001b[0m \u001b[0mlist\u001b[0m\u001b[0;34m(\u001b[0m\u001b[0mkey\u001b[0m\u001b[0;34m)\u001b[0m\u001b[0;34m\u001b[0m\u001b[0;34m\u001b[0m\u001b[0m\n\u001b[1;32m   2933\u001b[0m             indexer = self.loc._convert_to_indexer(key, axis=1,\n\u001b[0;32m-> 2934\u001b[0;31m                                                    raise_missing=True)\n\u001b[0m\u001b[1;32m   2935\u001b[0m \u001b[0;34m\u001b[0m\u001b[0m\n\u001b[1;32m   2936\u001b[0m         \u001b[0;31m# take() does not accept boolean indexers\u001b[0m\u001b[0;34m\u001b[0m\u001b[0;34m\u001b[0m\u001b[0;34m\u001b[0m\u001b[0m\n",
      "\u001b[0;32m/anaconda3/lib/python3.7/site-packages/pandas/core/indexing.py\u001b[0m in \u001b[0;36m_convert_to_indexer\u001b[0;34m(self, obj, axis, is_setter, raise_missing)\u001b[0m\n\u001b[1;32m   1352\u001b[0m                 kwargs = {'raise_missing': True if is_setter else\n\u001b[1;32m   1353\u001b[0m                           raise_missing}\n\u001b[0;32m-> 1354\u001b[0;31m                 \u001b[0;32mreturn\u001b[0m \u001b[0mself\u001b[0m\u001b[0;34m.\u001b[0m\u001b[0m_get_listlike_indexer\u001b[0m\u001b[0;34m(\u001b[0m\u001b[0mobj\u001b[0m\u001b[0;34m,\u001b[0m \u001b[0maxis\u001b[0m\u001b[0;34m,\u001b[0m \u001b[0;34m**\u001b[0m\u001b[0mkwargs\u001b[0m\u001b[0;34m)\u001b[0m\u001b[0;34m[\u001b[0m\u001b[0;36m1\u001b[0m\u001b[0;34m]\u001b[0m\u001b[0;34m\u001b[0m\u001b[0;34m\u001b[0m\u001b[0m\n\u001b[0m\u001b[1;32m   1355\u001b[0m         \u001b[0;32melse\u001b[0m\u001b[0;34m:\u001b[0m\u001b[0;34m\u001b[0m\u001b[0;34m\u001b[0m\u001b[0m\n\u001b[1;32m   1356\u001b[0m             \u001b[0;32mtry\u001b[0m\u001b[0;34m:\u001b[0m\u001b[0;34m\u001b[0m\u001b[0;34m\u001b[0m\u001b[0m\n",
      "\u001b[0;32m/anaconda3/lib/python3.7/site-packages/pandas/core/indexing.py\u001b[0m in \u001b[0;36m_get_listlike_indexer\u001b[0;34m(self, key, axis, raise_missing)\u001b[0m\n\u001b[1;32m   1159\u001b[0m         self._validate_read_indexer(keyarr, indexer,\n\u001b[1;32m   1160\u001b[0m                                     \u001b[0mo\u001b[0m\u001b[0;34m.\u001b[0m\u001b[0m_get_axis_number\u001b[0m\u001b[0;34m(\u001b[0m\u001b[0maxis\u001b[0m\u001b[0;34m)\u001b[0m\u001b[0;34m,\u001b[0m\u001b[0;34m\u001b[0m\u001b[0;34m\u001b[0m\u001b[0m\n\u001b[0;32m-> 1161\u001b[0;31m                                     raise_missing=raise_missing)\n\u001b[0m\u001b[1;32m   1162\u001b[0m         \u001b[0;32mreturn\u001b[0m \u001b[0mkeyarr\u001b[0m\u001b[0;34m,\u001b[0m \u001b[0mindexer\u001b[0m\u001b[0;34m\u001b[0m\u001b[0;34m\u001b[0m\u001b[0m\n\u001b[1;32m   1163\u001b[0m \u001b[0;34m\u001b[0m\u001b[0m\n",
      "\u001b[0;32m/anaconda3/lib/python3.7/site-packages/pandas/core/indexing.py\u001b[0m in \u001b[0;36m_validate_read_indexer\u001b[0;34m(self, key, indexer, axis, raise_missing)\u001b[0m\n\u001b[1;32m   1250\u001b[0m             \u001b[0;32mif\u001b[0m \u001b[0;32mnot\u001b[0m\u001b[0;34m(\u001b[0m\u001b[0mself\u001b[0m\u001b[0;34m.\u001b[0m\u001b[0mname\u001b[0m \u001b[0;34m==\u001b[0m \u001b[0;34m'loc'\u001b[0m \u001b[0;32mand\u001b[0m \u001b[0;32mnot\u001b[0m \u001b[0mraise_missing\u001b[0m\u001b[0;34m)\u001b[0m\u001b[0;34m:\u001b[0m\u001b[0;34m\u001b[0m\u001b[0;34m\u001b[0m\u001b[0m\n\u001b[1;32m   1251\u001b[0m                 \u001b[0mnot_found\u001b[0m \u001b[0;34m=\u001b[0m \u001b[0mlist\u001b[0m\u001b[0;34m(\u001b[0m\u001b[0mset\u001b[0m\u001b[0;34m(\u001b[0m\u001b[0mkey\u001b[0m\u001b[0;34m)\u001b[0m \u001b[0;34m-\u001b[0m \u001b[0mset\u001b[0m\u001b[0;34m(\u001b[0m\u001b[0max\u001b[0m\u001b[0;34m)\u001b[0m\u001b[0;34m)\u001b[0m\u001b[0;34m\u001b[0m\u001b[0;34m\u001b[0m\u001b[0m\n\u001b[0;32m-> 1252\u001b[0;31m                 \u001b[0;32mraise\u001b[0m \u001b[0mKeyError\u001b[0m\u001b[0;34m(\u001b[0m\u001b[0;34m\"{} not in index\"\u001b[0m\u001b[0;34m.\u001b[0m\u001b[0mformat\u001b[0m\u001b[0;34m(\u001b[0m\u001b[0mnot_found\u001b[0m\u001b[0;34m)\u001b[0m\u001b[0;34m)\u001b[0m\u001b[0;34m\u001b[0m\u001b[0;34m\u001b[0m\u001b[0m\n\u001b[0m\u001b[1;32m   1253\u001b[0m \u001b[0;34m\u001b[0m\u001b[0m\n\u001b[1;32m   1254\u001b[0m             \u001b[0;31m# we skip the warning on Categorical/Interval\u001b[0m\u001b[0;34m\u001b[0m\u001b[0;34m\u001b[0m\u001b[0;34m\u001b[0m\u001b[0m\n",
      "\u001b[0;31mKeyError\u001b[0m: \"['value'] not in index\""
     ]
    }
   ],
   "source": [
    "carr_fin=carr_data[[\"mo\", \"value\"]]\n",
    "carr_fin.index = carr_fin.mo\n",
    "carr_fin.drop('mo', axis=1, inplace=True)\n",
    "carr_fin.to_csv('dset/carr.csv')\n"
   ]
  },
  {
   "cell_type": "code",
   "execution_count": 42,
   "metadata": {},
   "outputs": [
    {
     "ename": "NameError",
     "evalue": "name 'carr_fin' is not defined",
     "output_type": "error",
     "traceback": [
      "\u001b[0;31m---------------------------------------------------------------------------\u001b[0m",
      "\u001b[0;31mNameError\u001b[0m                                 Traceback (most recent call last)",
      "\u001b[0;32m<ipython-input-42-b04eefb54a28>\u001b[0m in \u001b[0;36m<module>\u001b[0;34m\u001b[0m\n\u001b[0;32m----> 1\u001b[0;31m \u001b[0mvalue\u001b[0m \u001b[0;34m=\u001b[0m \u001b[0mcarr_fin\u001b[0m\u001b[0;34m[\u001b[0m\u001b[0;34m'value'\u001b[0m\u001b[0;34m]\u001b[0m\u001b[0;34m.\u001b[0m\u001b[0mvalues\u001b[0m\u001b[0;34m\u001b[0m\u001b[0;34m\u001b[0m\u001b[0m\n\u001b[0m\u001b[1;32m      2\u001b[0m \u001b[0mseq_len\u001b[0m \u001b[0;34m=\u001b[0m \u001b[0;36m10\u001b[0m\u001b[0;34m\u001b[0m\u001b[0;34m\u001b[0m\u001b[0m\n\u001b[1;32m      3\u001b[0m \u001b[0msequence_length\u001b[0m \u001b[0;34m=\u001b[0m \u001b[0mseq_len\u001b[0m \u001b[0;34m+\u001b[0m \u001b[0;36m1\u001b[0m\u001b[0;34m\u001b[0m\u001b[0;34m\u001b[0m\u001b[0m\n\u001b[1;32m      4\u001b[0m \u001b[0;34m\u001b[0m\u001b[0m\n\u001b[1;32m      5\u001b[0m \u001b[0mresult\u001b[0m \u001b[0;34m=\u001b[0m \u001b[0;34m[\u001b[0m\u001b[0;34m]\u001b[0m\u001b[0;34m\u001b[0m\u001b[0;34m\u001b[0m\u001b[0m\n",
      "\u001b[0;31mNameError\u001b[0m: name 'carr_fin' is not defined"
     ]
    }
   ],
   "source": [
    "value = carr_fin['value'].values\n",
    "seq_len = 10\n",
    "sequence_length = seq_len + 1\n",
    "\n",
    "result = []\n",
    "for index in range(len(value) - sequence_length):\n",
    "    result.append(value[index: index + sequence_length])"
   ]
  },
  {
   "cell_type": "code",
   "execution_count": 43,
   "metadata": {},
   "outputs": [
    {
     "ename": "NameError",
     "evalue": "name 'result' is not defined",
     "output_type": "error",
     "traceback": [
      "\u001b[0;31m---------------------------------------------------------------------------\u001b[0m",
      "\u001b[0;31mNameError\u001b[0m                                 Traceback (most recent call last)",
      "\u001b[0;32m<ipython-input-43-4407aa6683f0>\u001b[0m in \u001b[0;36m<module>\u001b[0;34m\u001b[0m\n\u001b[1;32m      1\u001b[0m \u001b[0mnormalized_data\u001b[0m \u001b[0;34m=\u001b[0m \u001b[0;34m[\u001b[0m\u001b[0;34m]\u001b[0m\u001b[0;34m\u001b[0m\u001b[0;34m\u001b[0m\u001b[0m\n\u001b[0;32m----> 2\u001b[0;31m \u001b[0;32mfor\u001b[0m \u001b[0mwindow\u001b[0m \u001b[0;32min\u001b[0m \u001b[0mresult\u001b[0m\u001b[0;34m:\u001b[0m\u001b[0;34m\u001b[0m\u001b[0;34m\u001b[0m\u001b[0m\n\u001b[0m\u001b[1;32m      3\u001b[0m     \u001b[0mnormalized_window\u001b[0m \u001b[0;34m=\u001b[0m \u001b[0;34m[\u001b[0m\u001b[0;34m(\u001b[0m\u001b[0;34m(\u001b[0m\u001b[0mfloat\u001b[0m\u001b[0;34m(\u001b[0m\u001b[0mp\u001b[0m\u001b[0;34m)\u001b[0m \u001b[0;34m/\u001b[0m \u001b[0mfloat\u001b[0m\u001b[0;34m(\u001b[0m\u001b[0mwindow\u001b[0m\u001b[0;34m[\u001b[0m\u001b[0;36m0\u001b[0m\u001b[0;34m]\u001b[0m\u001b[0;34m)\u001b[0m\u001b[0;34m)\u001b[0m \u001b[0;34m-\u001b[0m \u001b[0;36m1\u001b[0m\u001b[0;34m)\u001b[0m \u001b[0;32mfor\u001b[0m \u001b[0mp\u001b[0m \u001b[0;32min\u001b[0m \u001b[0mwindow\u001b[0m\u001b[0;34m]\u001b[0m\u001b[0;34m\u001b[0m\u001b[0;34m\u001b[0m\u001b[0m\n\u001b[1;32m      4\u001b[0m     \u001b[0mnormalized_data\u001b[0m\u001b[0;34m.\u001b[0m\u001b[0mappend\u001b[0m\u001b[0;34m(\u001b[0m\u001b[0mnormalized_window\u001b[0m\u001b[0;34m)\u001b[0m\u001b[0;34m\u001b[0m\u001b[0;34m\u001b[0m\u001b[0m\n\u001b[1;32m      5\u001b[0m \u001b[0;34m\u001b[0m\u001b[0m\n",
      "\u001b[0;31mNameError\u001b[0m: name 'result' is not defined"
     ]
    }
   ],
   "source": [
    "normalized_data = []\n",
    "for window in result:\n",
    "    normalized_window = [((float(p) / float(window[0])) - 1) for p in window]\n",
    "    normalized_data.append(normalized_window)\n",
    "\n",
    "result = np.array(normalized_data)\n",
    "\n",
    "# split train and test data\n",
    "row = int(round(result.shape[0] * 0.9))\n",
    "train = result[:row, :]\n",
    "np.random.shuffle(train)\n",
    "\n",
    "x_train = train[:, :-1]\n",
    "x_train = np.reshape(x_train, (x_train.shape[0], x_train.shape[1], 1))\n",
    "y_train = train[:, -1]\n",
    "\n",
    "x_test = result[row:, :-1]\n",
    "x_test = np.reshape(x_test, (x_test.shape[0], x_test.shape[1], 1))\n",
    "y_test = result[row:, -1]\n",
    "\n",
    "x_train.shape, x_test.shape"
   ]
  },
  {
   "cell_type": "code",
   "execution_count": null,
   "metadata": {},
   "outputs": [],
   "source": [
    "model = Sequential()\n",
    "\n",
    "model.add(LSTM(10, return_sequences=True, input_shape=(10, 1)))\n",
    "\n",
    "model.add(LSTM(24, return_sequences=False))\n",
    "\n",
    "model.add(Dense(1, activation='linear'))\n",
    "\n",
    "model.compile(loss='mse', metrics=['mean_squared_error'],optimizer='nadam')\n",
    "\n",
    "model.summary()"
   ]
  },
  {
   "cell_type": "code",
   "execution_count": null,
   "metadata": {},
   "outputs": [],
   "source": [
    "model.fit(x_train, y_train,\n",
    "    validation_data=(x_test, y_test),\n",
    "    batch_size=10,\n",
    "    epochs=30)"
   ]
  },
  {
   "cell_type": "code",
   "execution_count": null,
   "metadata": {},
   "outputs": [],
   "source": [
    "model.save(\"carr_model_trained.h5\")"
   ]
  },
  {
   "cell_type": "code",
   "execution_count": null,
   "metadata": {},
   "outputs": [],
   "source": [
    "pred = model.predict(x_test)\n",
    "\n",
    "fig = plt.figure(facecolor='white', figsize=(20, 10))\n",
    "ax = fig.add_subplot(111)\n",
    "ax.plot(y_test, label='True')\n",
    "ax.plot(pred, label='Prediction')\n",
    "plt.title('Carrot')\n",
    "ax.legend()\n",
    "plt.show()"
   ]
  },
  {
   "cell_type": "code",
   "execution_count": null,
   "metadata": {},
   "outputs": [],
   "source": [
    "onion_2015 = export_all[(export_all['mktyr'] == 2015.0) & (export_all['product']=='Onion')]\n",
    "onn_2015 = export_all[(export_all['mktyr'] == 2015.0) & (export_all['product']=='Onion')].reset_index()\n",
    "onn_2015_new = onn_2015[['jan','feb', 'mar','apr','may','jun','jul','aug','sep','oct', 'nov', 'dec']]\n",
    "ren_onn_2015 = onn_2015_new.rename(columns={\"jan\":\"m1\", \"feb\":\"m2\", \"mar\":\"m3\", \"apr\":\"m4\", \"may\":\"m5\", \"jun\":\"m6\", \"jul\":\"m7\",\"aug\":\"m8\",\"sep\":\"m9\",\"oct\":\"m10\",\"nov\":\"m11\", \"dec\":\"m12\"})\n",
    "onn_2016 = export_all[(export_all['mktyr'] == 2016.0) & (export_all['product']=='Onion')].reset_index()\n",
    "onn_2016_new = onn_2016[['jan','feb', 'mar','apr','may','jun','jul','aug','sep','oct', 'nov', 'dec']]\n",
    "ren_onn_2016 = onn_2016_new.rename(columns={\"jan\":\"m13\", \"feb\":\"m14\", \"mar\":\"m15\", \"apr\":\"m16\", \"may\":\"m17\", \"jun\":\"m18\", \"jul\":\"m19\",\"aug\":\"m20\",\"sep\":\"m21\",\"oct\":\"m22\",\"nov\":\"m23\", \"dec\":\"m24\"})\n",
    "onn_2017 = export_all[(export_all['mktyr'] == 2017.0) & (export_all['product']=='Onion')].reset_index()\n",
    "onn_2017_new = onn_2017[['jan','feb', 'mar','apr','may','jun','jul','aug','sep','oct', 'nov', 'dec']]\n",
    "ren_onn_2017 = onn_2017_new.rename(columns={\"jan\":\"m25\", \"feb\":\"m26\", \"mar\":\"m27\", \"apr\":\"m28\", \"may\":\"m29\", \"jun\":\"m30\", \"jul\":\"m31\",\"aug\":\"m32\",\"sep\":\"m33\",\"oct\":\"m34\",\"nov\":\"m35\", \"dec\":\"m36\"})\n",
    "onn_2018 = export_all[(export_all['mktyr'] == 2018.0) & (export_all['product']=='Onion')].reset_index()\n",
    "onn_2018_new = onn_2018[['jan','feb', 'mar','apr','may','jun','jul','aug','sep','oct', 'nov', 'dec']]\n",
    "ren_onn_2018 = onn_2018_new.rename(columns={\"jan\":\"m37\", \"feb\":\"m38\", \"mar\":\"m39\", \"apr\":\"m40\", \"may\":\"m41\", \"jun\":\"m42\", \"jul\":\"m43\",\"aug\":\"m44\",\"sep\":\"m45\",\"oct\":\"m46\",\"nov\":\"m47\", \"dec\":\"m48\"})\n",
    "onn = ren_onn_2015.join([ren_onn_2016, ren_onn_2017, ren_onn_2018], how='outer')\n"
   ]
  },
  {
   "cell_type": "code",
   "execution_count": null,
   "metadata": {},
   "outputs": [],
   "source": [
    "onn = ren_onn_2015.join([ren_onn_2016, ren_onn_2017, ren_onn_2018], how='outer')\n",
    "trans_onn = broc.T \n",
    "onn_final = trans_onn.reset_index()\n",
    "onn_data = onn_final.rename(columns={\"index\": \"month\", 0: \"value\"})\n",
    "onn_data['mo'] = onn_data.index\n"
   ]
  },
  {
   "cell_type": "code",
   "execution_count": null,
   "metadata": {},
   "outputs": [],
   "source": [
    "\n",
    "# #creating dataframe\n",
    "# onn_dt = onn_data.sort_index(ascending=True, axis=0)\n",
    "\n",
    "# new_onn_dt = pd.DataFrame(index=range(0,len(onn_dt)),columns=['mo', 'value'])\n",
    "# for i in range(0,len(onn_dt)):\n",
    "#     new_onn_dt['mo'][i] = new_onn_dt['mo'][i]\n",
    "#     new_onn_dt['value'][i] = new_onn_dt['value'][i]\n",
    "\n",
    "#     #setting index\n",
    "# new_onn_dt.index = new_onn_dt.mo\n",
    "# new_onn_dt.drop('mo', axis=1, inplace=True)\n",
    "# new_onn_dt\n",
    "onn_fin=onn_data[[\"mo\", \"value\"]]"
   ]
  },
  {
   "cell_type": "code",
   "execution_count": null,
   "metadata": {},
   "outputs": [],
   "source": [
    "onn_fin.index = onn_fin.mo\n",
    "onn_fin.drop('mo', axis=1, inplace=True)\n",
    "onn_fin.head()\n",
    "onn_fin.to_csv('dset/onn.csv')"
   ]
  },
  {
   "cell_type": "code",
   "execution_count": null,
   "metadata": {},
   "outputs": [],
   "source": [
    "value = onn_fin[\"value\"].values\n",
    "seq_len = 10\n",
    "sequence_length = seq_len + 1\n",
    "\n",
    "result = []\n",
    "for index in range(len(value) - sequence_length):\n",
    "    result.append(value[index: index + sequence_length])"
   ]
  },
  {
   "cell_type": "code",
   "execution_count": null,
   "metadata": {},
   "outputs": [],
   "source": [
    "normalized_data = []\n",
    "for window in result:\n",
    "    normalized_window = [((float(p) / float(window[0])) - 1) for p in window]\n",
    "    normalized_data.append(normalized_window)\n",
    "\n",
    "result = np.array(normalized_data)\n",
    "\n",
    "# split train and test data\n",
    "row = int(round(result.shape[0] * 0.9))\n",
    "train = result[:row, :]\n",
    "np.random.shuffle(train)\n",
    "\n",
    "x_train = train[:, :-1]\n",
    "x_train = np.reshape(x_train, (x_train.shape[0], x_train.shape[1], 1))\n",
    "y_train = train[:, -1]\n",
    "\n",
    "x_test = result[row:, :-1]\n",
    "x_test = np.reshape(x_test, (x_test.shape[0], x_test.shape[1], 1))\n",
    "y_test = result[row:, -1]\n",
    "\n",
    "x_train.shape, x_test.shape"
   ]
  },
  {
   "cell_type": "code",
   "execution_count": null,
   "metadata": {},
   "outputs": [],
   "source": [
    "model = Sequential()\n",
    "\n",
    "model.add(LSTM(10, return_sequences=True, input_shape=(10, 1)))\n",
    "\n",
    "model.add(LSTM(24, return_sequences=False))\n",
    "\n",
    "model.add(Dense(1, activation='linear'))\n",
    "\n",
    "model.compile(loss='mse', metrics=['mean_squared_error'],optimizer='nadam')\n",
    "\n",
    "model.summary()"
   ]
  },
  {
   "cell_type": "code",
   "execution_count": null,
   "metadata": {},
   "outputs": [],
   "source": [
    "model.fit(x_train, y_train,\n",
    "    validation_data=(x_test, y_test),\n",
    "    batch_size=10,\n",
    "    epochs=30)"
   ]
  },
  {
   "cell_type": "code",
   "execution_count": null,
   "metadata": {},
   "outputs": [],
   "source": [
    "model.save(\"onn_model_trained.h5\")"
   ]
  },
  {
   "cell_type": "code",
   "execution_count": null,
   "metadata": {},
   "outputs": [],
   "source": [
    "pred = model.predict(x_test)\n",
    "\n",
    "fig = plt.figure(facecolor='white', figsize=(20, 10))\n",
    "ax = fig.add_subplot(111)\n",
    "ax.plot(y_test, label='True')\n",
    "ax.plot(pred, label='Prediction')\n",
    "plt.title('Onion')\n",
    "ax.legend()\n",
    "plt.show()"
   ]
  },
  {
   "cell_type": "code",
   "execution_count": null,
   "metadata": {},
   "outputs": [],
   "source": [
    "pepper_2015 = export_all[(export_all['mktyr'] == 2015.0) & (export_all['product']=='Pepper')]\n",
    "pepp_2015 = export_all[(export_all['mktyr'] == 2015.0) & (export_all['product']=='Pepper')].reset_index()\n",
    "pepp_2015_new = pepp_2015[['jan','feb', 'mar','apr','may','jun','jul','aug','sep','oct', 'nov', 'dec']]\n",
    "ren_pepp_2015 = pepp_2015_new.rename(columns={\"jan\":\"m1\", \"feb\":\"m2\", \"mar\":\"m3\", \"apr\":\"m4\", \"may\":\"m5\", \"jun\":\"m6\", \"jul\":\"m7\",\"aug\":\"m8\",\"sep\":\"m9\",\"oct\":\"m10\",\"nov\":\"m11\", \"dec\":\"m12\"})\n",
    "pepp_2016 = export_all[(export_all['mktyr'] == 2016.0) & (export_all['product']=='Onion')].reset_index()\n",
    "pepp_2016_new = pepp_2016[['jan','feb', 'mar','apr','may','jun','jul','aug','sep','oct', 'nov', 'dec']]\n",
    "ren_pepp_2016 = pepp_2016_new.rename(columns={\"jan\":\"m13\", \"feb\":\"m14\", \"mar\":\"m15\", \"apr\":\"m16\", \"may\":\"m17\", \"jun\":\"m18\", \"jul\":\"m19\",\"aug\":\"m20\",\"sep\":\"m21\",\"oct\":\"m22\",\"nov\":\"m23\", \"dec\":\"m24\"})\n",
    "pepp_2017 = export_all[(export_all['mktyr'] == 2017.0) & (export_all['product']=='Onion')].reset_index()\n",
    "pepp_2017_new = pepp_2017[['jan','feb', 'mar','apr','may','jun','jul','aug','sep','oct', 'nov', 'dec']]\n",
    "ren_pepp_2017 = pepp_2017_new.rename(columns={\"jan\":\"m25\", \"feb\":\"m26\", \"mar\":\"m27\", \"apr\":\"m28\", \"may\":\"m29\", \"jun\":\"m30\", \"jul\":\"m31\",\"aug\":\"m32\",\"sep\":\"m33\",\"oct\":\"m34\",\"nov\":\"m35\", \"dec\":\"m36\"})\n",
    "pepp_2018 = export_all[(export_all['mktyr'] == 2018.0) & (export_all['product']=='Onion')].reset_index()\n",
    "pepp_2018_new = pepp_2018[['jan','feb', 'mar','apr','may','jun','jul','aug','sep','oct', 'nov', 'dec']]\n",
    "ren_pepp_2018 = pepp_2018_new.rename(columns={\"jan\":\"m37\", \"feb\":\"m38\", \"mar\":\"m39\", \"apr\":\"m40\", \"may\":\"m41\", \"jun\":\"m42\", \"jul\":\"m43\",\"aug\":\"m44\",\"sep\":\"m45\",\"oct\":\"m46\",\"nov\":\"m47\", \"dec\":\"m48\"})\n",
    "pepp = ren_pepp_2015.join([ren_pepp_2016, ren_pepp_2017, ren_pepp_2018], how='outer')\n"
   ]
  },
  {
   "cell_type": "code",
   "execution_count": null,
   "metadata": {},
   "outputs": [],
   "source": [
    "\n",
    "trans_pepp = pepp.T \n",
    "pepp_final = trans_pepp.reset_index()\n",
    "pepp_data = pepp_final.rename(columns={\"index\": \"month\", 0: \"value\"})\n",
    "pepp_data['mo'] = pepp_data.index\n",
    "pepp_fin=pepp_data[[\"mo\", \"value\"]]\n",
    "pepp_fin.index = pepp_fin.mo\n",
    "pepp_fin.drop('mo', axis=1, inplace=True)\n",
    "pepp_fin.to_csv('dset/pepp.csv')\n"
   ]
  },
  {
   "cell_type": "code",
   "execution_count": null,
   "metadata": {},
   "outputs": [],
   "source": [
    "value = pepp_fin[\"value\"].values\n",
    "seq_len = 10\n",
    "sequence_length = seq_len + 1\n",
    "\n",
    "result = []\n",
    "for index in range(len(value) - sequence_length):\n",
    "    result.append(value[index: index + sequence_length])"
   ]
  },
  {
   "cell_type": "code",
   "execution_count": null,
   "metadata": {},
   "outputs": [],
   "source": [
    "normalized_data = []\n",
    "for window in result:\n",
    "    normalized_window = [((float(p) / float(window[0])) - 1) for p in window]\n",
    "    normalized_data.append(normalized_window)\n",
    "\n",
    "result = np.array(normalized_data)\n",
    "\n",
    "# split train and test data\n",
    "row = int(round(result.shape[0] * 0.9))\n",
    "train = result[:row, :]\n",
    "np.random.shuffle(train)\n",
    "\n",
    "x_train = train[:, :-1]\n",
    "x_train = np.reshape(x_train, (x_train.shape[0], x_train.shape[1], 1))\n",
    "y_train = train[:, -1]\n",
    "\n",
    "x_test = result[row:, :-1]\n",
    "x_test = np.reshape(x_test, (x_test.shape[0], x_test.shape[1], 1))\n",
    "y_test = result[row:, -1]\n",
    "\n",
    "x_train.shape, x_test.shape"
   ]
  },
  {
   "cell_type": "code",
   "execution_count": null,
   "metadata": {},
   "outputs": [],
   "source": [
    "model = Sequential()\n",
    "\n",
    "model.add(LSTM(10, return_sequences=True, input_shape=(10, 1)))\n",
    "\n",
    "model.add(LSTM(24, return_sequences=False))\n",
    "\n",
    "model.add(Dense(1, activation='linear'))\n",
    "\n",
    "model.compile(loss='mse', metrics=['mean_squared_error'],optimizer='nadam')\n",
    "\n",
    "model.summary()"
   ]
  },
  {
   "cell_type": "code",
   "execution_count": null,
   "metadata": {},
   "outputs": [],
   "source": [
    "model.fit(x_train, y_train,\n",
    "    validation_data=(x_test, y_test),\n",
    "    batch_size=10,\n",
    "    epochs=30)"
   ]
  },
  {
   "cell_type": "code",
   "execution_count": null,
   "metadata": {},
   "outputs": [],
   "source": [
    "model.save(\"pepp_model_trained.h5\")"
   ]
  },
  {
   "cell_type": "code",
   "execution_count": null,
   "metadata": {},
   "outputs": [],
   "source": [
    "pred = model.predict(x_test)\n",
    "\n",
    "fig = plt.figure(facecolor='white', figsize=(20, 10))\n",
    "ax = fig.add_subplot(111)\n",
    "ax.plot(y_test, label='True')\n",
    "ax.plot(pred, label='Prediction')\n",
    "plt.title('Pepper')\n",
    "ax.legend()\n",
    "plt.show()"
   ]
  },
  {
   "cell_type": "code",
   "execution_count": null,
   "metadata": {},
   "outputs": [],
   "source": [
    "potato_2015 = export_all[(export_all['mktyr'] == 2015.0) & (export_all['product']=='Potato')]\n",
    "pot_2015 = export_all[(export_all['mktyr'] == 2015.0) & (export_all['product']=='Potato')].reset_index()\n",
    "pot_2015_new = pot_2015[['jan','feb', 'mar','apr','may','jun','jul','aug','sep','oct', 'nov', 'dec']]\n",
    "ren_pot_2015 = pot_2015_new.rename(columns={\"jan\":\"m1\", \"feb\":\"m2\", \"mar\":\"m3\", \"apr\":\"m4\", \"may\":\"m5\", \"jun\":\"m6\", \"jul\":\"m7\",\"aug\":\"m8\",\"sep\":\"m9\",\"oct\":\"m10\",\"nov\":\"m11\", \"dec\":\"m12\"})\n",
    "pot_2016 = export_all[(export_all['mktyr'] == 2016.0) & (export_all['product']=='Onion')].reset_index()\n",
    "pot_2016_new = pot_2016[['jan','feb', 'mar','apr','may','jun','jul','aug','sep','oct', 'nov', 'dec']]\n",
    "ren_pot_2016 = pot_2016_new.rename(columns={\"jan\":\"m13\", \"feb\":\"m14\", \"mar\":\"m15\", \"apr\":\"m16\", \"may\":\"m17\", \"jun\":\"m18\", \"jul\":\"m19\",\"aug\":\"m20\",\"sep\":\"m21\",\"oct\":\"m22\",\"nov\":\"m23\", \"dec\":\"m24\"})\n",
    "pot_2017 = export_all[(export_all['mktyr'] == 2017.0) & (export_all['product']=='Onion')].reset_index()\n",
    "pot_2017_new = pot_2017[['jan','feb', 'mar','apr','may','jun','jul','aug','sep','oct', 'nov', 'dec']]\n",
    "ren_pot_2017 = pot_2017_new.rename(columns={\"jan\":\"m25\", \"feb\":\"m26\", \"mar\":\"m27\", \"apr\":\"m28\", \"may\":\"m29\", \"jun\":\"m30\", \"jul\":\"m31\",\"aug\":\"m32\",\"sep\":\"m33\",\"oct\":\"m34\",\"nov\":\"m35\", \"dec\":\"m36\"})\n",
    "pot_2018 = export_all[(export_all['mktyr'] == 2018.0) & (export_all['product']=='Onion')].reset_index()\n",
    "pot_2018_new = pot_2018[['jan','feb', 'mar','apr','may','jun','jul','aug','sep','oct', 'nov', 'dec']]\n",
    "ren_pot_2018 = pot_2018_new.rename(columns={\"jan\":\"m37\", \"feb\":\"m38\", \"mar\":\"m39\", \"apr\":\"m40\", \"may\":\"m41\", \"jun\":\"m42\", \"jul\":\"m43\",\"aug\":\"m44\",\"sep\":\"m45\",\"oct\":\"m46\",\"nov\":\"m47\", \"dec\":\"m48\"})\n",
    "pot = ren_pot_2015.join([ren_pot_2016, ren_pot_2017, ren_pot_2018], how='outer')\n"
   ]
  },
  {
   "cell_type": "code",
   "execution_count": null,
   "metadata": {},
   "outputs": [],
   "source": [
    "trans_pot = pot.T \n",
    "pot_final = trans_pot.reset_index()\n",
    "pot_data = pot_final.rename(columns={\"index\": \"month\", 0: \"value\"})\n",
    "pot_data['mo'] = pot_data.index\n",
    "pot_fin=pot_data[[\"mo\", \"value\"]]\n",
    "pot_fin.index = pot_fin.mo\n",
    "pot_fin.drop('mo', axis=1, inplace=True)\n",
    "pot_fin.to_csv('dset/pot.csv')\n"
   ]
  },
  {
   "cell_type": "code",
   "execution_count": null,
   "metadata": {},
   "outputs": [],
   "source": [
    "value = pot_fin[\"value\"].values\n",
    "seq_len = 10\n",
    "sequence_length = seq_len + 1\n",
    "\n",
    "result = []\n",
    "for index in range(len(value) - sequence_length):\n",
    "    result.append(value[index: index + sequence_length])"
   ]
  },
  {
   "cell_type": "code",
   "execution_count": null,
   "metadata": {},
   "outputs": [],
   "source": [
    "normalized_data = []\n",
    "for window in result:\n",
    "    normalized_window = [((float(p) / float(window[0])) - 1) for p in window]\n",
    "    normalized_data.append(normalized_window)\n",
    "\n",
    "result = np.array(normalized_data)\n",
    "\n",
    "# split train and test data\n",
    "row = int(round(result.shape[0] * 0.9))\n",
    "train = result[:row, :]\n",
    "np.random.shuffle(train)\n",
    "\n",
    "x_train = train[:, :-1]\n",
    "x_train = np.reshape(x_train, (x_train.shape[0], x_train.shape[1], 1))\n",
    "y_train = train[:, -1]\n",
    "\n",
    "x_test = result[row:, :-1]\n",
    "x_test = np.reshape(x_test, (x_test.shape[0], x_test.shape[1], 1))\n",
    "y_test = result[row:, -1]\n",
    "\n",
    "x_train.shape, x_test.shape"
   ]
  },
  {
   "cell_type": "code",
   "execution_count": null,
   "metadata": {},
   "outputs": [],
   "source": [
    "model = Sequential()\n",
    "\n",
    "model.add(LSTM(10, return_sequences=True, input_shape=(10, 1)))\n",
    "\n",
    "model.add(LSTM(24, return_sequences=False))\n",
    "\n",
    "model.add(Dense(1, activation='linear'))\n",
    "\n",
    "model.compile(loss='mse', metrics=['mean_squared_error'],optimizer='nadam')\n",
    "\n",
    "model.summary()"
   ]
  },
  {
   "cell_type": "code",
   "execution_count": null,
   "metadata": {},
   "outputs": [],
   "source": [
    "model.fit(x_train, y_train,\n",
    "    validation_data=(x_test, y_test),\n",
    "    batch_size=10,\n",
    "    epochs=30)"
   ]
  },
  {
   "cell_type": "code",
   "execution_count": null,
   "metadata": {},
   "outputs": [],
   "source": [
    "model.save(\"pop_model_trained.h5\")"
   ]
  },
  {
   "cell_type": "code",
   "execution_count": null,
   "metadata": {},
   "outputs": [],
   "source": [
    "pred = model.predict(x_test)\n",
    "\n",
    "fig = plt.figure(facecolor='white', figsize=(20, 10))\n",
    "ax = fig.add_subplot(111)\n",
    "ax.plot(y_test, label='True')\n",
    "ax.plot(pred, label='Prediction')\n",
    "plt.title('Potato')\n",
    "ax.legend()\n",
    "plt.show()"
   ]
  },
  {
   "cell_type": "code",
   "execution_count": null,
   "metadata": {},
   "outputs": [],
   "source": [
    "apple_2015 = export_all[(export_all['mktyr'] == 2015.0) & (export_all['product']=='Apple')]\n",
    "app_2015 = export_all[(export_all['mktyr'] == 2015.0) & (export_all['product']=='Potato')].reset_index()\n",
    "app_2015_new = app_2015[['jan','feb', 'mar','apr','may','jun','jul','aug','sep','oct', 'nov', 'dec']]\n",
    "ren_app_2015 = app_2015_new.rename(columns={\"jan\":\"m1\", \"feb\":\"m2\", \"mar\":\"m3\", \"apr\":\"m4\", \"may\":\"m5\", \"jun\":\"m6\", \"jul\":\"m7\",\"aug\":\"m8\",\"sep\":\"m9\",\"oct\":\"m10\",\"nov\":\"m11\", \"dec\":\"m12\"})\n",
    "app_2016 = export_all[(export_all['mktyr'] == 2016.0) & (export_all['product']=='Onion')].reset_index()\n",
    "app_2016_new = app_2016[['jan','feb', 'mar','apr','may','jun','jul','aug','sep','oct', 'nov', 'dec']]\n",
    "ren_app_2016 = app_2016_new.rename(columns={\"jan\":\"m13\", \"feb\":\"m14\", \"mar\":\"m15\", \"apr\":\"m16\", \"may\":\"m17\", \"jun\":\"m18\", \"jul\":\"m19\",\"aug\":\"m20\",\"sep\":\"m21\",\"oct\":\"m22\",\"nov\":\"m23\", \"dec\":\"m24\"})\n",
    "app_2017 = export_all[(export_all['mktyr'] == 2017.0) & (export_all['product']=='Onion')].reset_index()\n",
    "app_2017_new = app_2017[['jan','feb', 'mar','apr','may','jun','jul','aug','sep','oct', 'nov', 'dec']]\n",
    "ren_app_2017 = app_2017_new.rename(columns={\"jan\":\"m25\", \"feb\":\"m26\", \"mar\":\"m27\", \"apr\":\"m28\", \"may\":\"m29\", \"jun\":\"m30\", \"jul\":\"m31\",\"aug\":\"m32\",\"sep\":\"m33\",\"oct\":\"m34\",\"nov\":\"m35\", \"dec\":\"m36\"})\n",
    "app_2018 = export_all[(export_all['mktyr'] == 2018.0) & (export_all['product']=='Onion')].reset_index()\n",
    "app_2018_new = app_2018[['jan','feb', 'mar','apr','may','jun','jul','aug','sep','oct', 'nov', 'dec']]\n",
    "ren_app_2018 = app_2018_new.rename(columns={\"jan\":\"m37\", \"feb\":\"m38\", \"mar\":\"m39\", \"apr\":\"m40\", \"may\":\"m41\", \"jun\":\"m42\", \"jul\":\"m43\",\"aug\":\"m44\",\"sep\":\"m45\",\"oct\":\"m46\",\"nov\":\"m47\", \"dec\":\"m48\"})\n",
    "app = ren_app_2015.join([ren_app_2016, ren_app_2017, ren_app_2018], how='outer')\n"
   ]
  },
  {
   "cell_type": "code",
   "execution_count": null,
   "metadata": {},
   "outputs": [],
   "source": [
    "trans_app = app.T \n",
    "app_final = trans_app.reset_index()\n",
    "app_data = app_final.rename(columns={\"index\": \"month\", 0: \"value\"})\n",
    "app_data['mo'] = app_data.index\n",
    "app_fin=app_data[[\"mo\", \"value\"]]\n",
    "app_fin.index = app_fin.mo\n",
    "app_fin.drop('mo', axis=1, inplace=True)\n",
    "app_fin.to_csv('dset/app.csv')"
   ]
  },
  {
   "cell_type": "code",
   "execution_count": null,
   "metadata": {},
   "outputs": [],
   "source": [
    "value = app_fin[\"value\"].values\n",
    "seq_len = 10\n",
    "sequence_length = seq_len + 1\n",
    "\n",
    "result = []\n",
    "for index in range(len(value) - sequence_length):\n",
    "    result.append(value[index: index + sequence_length])"
   ]
  },
  {
   "cell_type": "code",
   "execution_count": null,
   "metadata": {},
   "outputs": [],
   "source": [
    "normalized_data = []\n",
    "for window in result:\n",
    "    normalized_window = [((float(p) / float(window[0])) - 1) for p in window]\n",
    "    normalized_data.append(normalized_window)\n",
    "\n",
    "result = np.array(normalized_data)\n",
    "\n",
    "# split train and test data\n",
    "row = int(round(result.shape[0] * 0.9))\n",
    "train = result[:row, :]\n",
    "np.random.shuffle(train)\n",
    "\n",
    "x_train = train[:, :-1]\n",
    "x_train = np.reshape(x_train, (x_train.shape[0], x_train.shape[1], 1))\n",
    "y_train = train[:, -1]\n",
    "\n",
    "x_test = result[row:, :-1]\n",
    "x_test = np.reshape(x_test, (x_test.shape[0], x_test.shape[1], 1))\n",
    "y_test = result[row:, -1]\n",
    "\n",
    "x_train.shape, x_test.shape"
   ]
  },
  {
   "cell_type": "code",
   "execution_count": null,
   "metadata": {},
   "outputs": [],
   "source": [
    "model = Sequential()\n",
    "\n",
    "model.add(LSTM(10, return_sequences=True, input_shape=(10, 1)))\n",
    "\n",
    "model.add(LSTM(24, return_sequences=False))\n",
    "\n",
    "model.add(Dense(1, activation='linear'))\n",
    "\n",
    "model.compile(loss='mse', metrics=['mean_squared_error'],optimizer='nadam')\n",
    "\n",
    "model.summary()"
   ]
  },
  {
   "cell_type": "code",
   "execution_count": null,
   "metadata": {},
   "outputs": [],
   "source": [
    "model.fit(x_train, y_train,\n",
    "    validation_data=(x_test, y_test),\n",
    "    batch_size=10,\n",
    "    epochs=30)"
   ]
  },
  {
   "cell_type": "code",
   "execution_count": null,
   "metadata": {},
   "outputs": [],
   "source": [
    "model.save(\"app_model_trained.h5\")"
   ]
  },
  {
   "cell_type": "code",
   "execution_count": null,
   "metadata": {},
   "outputs": [],
   "source": [
    "pred = model.predict(x_test)\n",
    "\n",
    "fig = plt.figure(facecolor='white', figsize=(20, 10))\n",
    "ax = fig.add_subplot(111)\n",
    "ax.plot(y_test, label='True')\n",
    "ax.plot(pred, label='Prediction')\n",
    "plt.title('Apple')\n",
    "ax.legend()\n",
    "plt.show()"
   ]
  },
  {
   "cell_type": "code",
   "execution_count": null,
   "metadata": {},
   "outputs": [],
   "source": [
    "grapes_2015 = export_all[(export_all['mktyr'] == 2015.0) & (export_all['product']=='Grapes')]\n",
    "grp_2015 = export_all[(export_all['mktyr'] == 2015.0) & (export_all['product']=='Potato')].reset_index()\n",
    "grp_2015_new = grp_2015[['jan','feb', 'mar','apr','may','jun','jul','aug','sep','oct', 'nov', 'dec']]\n",
    "ren_grp_2015 = grp_2015_new.rename(columns={\"jan\":\"m1\", \"feb\":\"m2\", \"mar\":\"m3\", \"apr\":\"m4\", \"may\":\"m5\", \"jun\":\"m6\", \"jul\":\"m7\",\"aug\":\"m8\",\"sep\":\"m9\",\"oct\":\"m10\",\"nov\":\"m11\", \"dec\":\"m12\"})\n",
    "grp_2016 = export_all[(export_all['mktyr'] == 2016.0) & (export_all['product']=='Onion')].reset_index()\n",
    "grp_2016_new = grp_2016[['jan','feb', 'mar','apr','may','jun','jul','aug','sep','oct', 'nov', 'dec']]\n",
    "ren_grp_2016 = grp_2016_new.rename(columns={\"jan\":\"m13\", \"feb\":\"m14\", \"mar\":\"m15\", \"apr\":\"m16\", \"may\":\"m17\", \"jun\":\"m18\", \"jul\":\"m19\",\"aug\":\"m20\",\"sep\":\"m21\",\"oct\":\"m22\",\"nov\":\"m23\", \"dec\":\"m24\"})\n",
    "grp_2017 = export_all[(export_all['mktyr'] == 2017.0) & (export_all['product']=='Onion')].reset_index()\n",
    "grp_2017_new = grp_2017[['jan','feb', 'mar','apr','may','jun','jul','aug','sep','oct', 'nov', 'dec']]\n",
    "ren_grp_2017 = grp_2017_new.rename(columns={\"jan\":\"m25\", \"feb\":\"m26\", \"mar\":\"m27\", \"apr\":\"m28\", \"may\":\"m29\", \"jun\":\"m30\", \"jul\":\"m31\",\"aug\":\"m32\",\"sep\":\"m33\",\"oct\":\"m34\",\"nov\":\"m35\", \"dec\":\"m36\"})\n",
    "grp_2018 = export_all[(export_all['mktyr'] == 2018.0) & (export_all['product']=='Onion')].reset_index()\n",
    "grp_2018_new = grp_2018[['jan','feb', 'mar','apr','may','jun','jul','aug','sep','oct', 'nov', 'dec']]\n",
    "ren_grp_2018 = grp_2018_new.rename(columns={\"jan\":\"m37\", \"feb\":\"m38\", \"mar\":\"m39\", \"apr\":\"m40\", \"may\":\"m41\", \"jun\":\"m42\", \"jul\":\"m43\",\"aug\":\"m44\",\"sep\":\"m45\",\"oct\":\"m46\",\"nov\":\"m47\", \"dec\":\"m48\"})\n",
    "grp = ren_grp_2015.join([ren_grp_2016, ren_grp_2017, ren_grp_2018], how='outer')\n"
   ]
  },
  {
   "cell_type": "code",
   "execution_count": null,
   "metadata": {},
   "outputs": [],
   "source": [
    "trans_grp = grp.T \n",
    "grp_final = trans_grp.reset_index()\n",
    "grp_data = grp_final.rename(columns={\"index\": \"month\", 0: \"value\"})\n",
    "grp_data['mo'] = grp_data.index\n",
    "grp_fin=grp_data[[\"mo\", \"value\"]]\n",
    "grp_fin.index = grp_fin.mo\n",
    "grp_fin.drop('mo', axis=1, inplace=True)\n",
    "grp_fin.to_csv('dset/grp.csv')"
   ]
  },
  {
   "cell_type": "code",
   "execution_count": null,
   "metadata": {},
   "outputs": [],
   "source": [
    "value = grp_fin[\"value\"].values\n",
    "seq_len = 10\n",
    "sequence_length = seq_len + 1\n",
    "\n",
    "result = []\n",
    "for index in range(len(value) - sequence_length):\n",
    "    result.append(value[index: index + sequence_length])"
   ]
  },
  {
   "cell_type": "code",
   "execution_count": null,
   "metadata": {},
   "outputs": [],
   "source": [
    "normalized_data = []\n",
    "for window in result:\n",
    "    normalized_window = [((float(p) / float(window[0])) - 1) for p in window]\n",
    "    normalized_data.append(normalized_window)\n",
    "\n",
    "result = np.array(normalized_data)\n",
    "\n",
    "# split train and test data\n",
    "row = int(round(result.shape[0] * 0.9))\n",
    "train = result[:row, :]\n",
    "np.random.shuffle(train)\n",
    "\n",
    "x_train = train[:, :-1]\n",
    "x_train = np.reshape(x_train, (x_train.shape[0], x_train.shape[1], 1))\n",
    "y_train = train[:, -1]\n",
    "\n",
    "x_test = result[row:, :-1]\n",
    "x_test = np.reshape(x_test, (x_test.shape[0], x_test.shape[1], 1))\n",
    "y_test = result[row:, -1]\n",
    "\n",
    "x_train.shape, x_test.shape"
   ]
  },
  {
   "cell_type": "code",
   "execution_count": null,
   "metadata": {},
   "outputs": [],
   "source": [
    "model = Sequential()\n",
    "\n",
    "model.add(LSTM(10, return_sequences=True, input_shape=(10, 1)))\n",
    "\n",
    "model.add(LSTM(24, return_sequences=False))\n",
    "\n",
    "model.add(Dense(1, activation='linear'))\n",
    "\n",
    "model.compile(loss='mse', metrics=['mean_squared_error'],optimizer='nadam')\n",
    "\n",
    "model.summary()"
   ]
  },
  {
   "cell_type": "code",
   "execution_count": null,
   "metadata": {},
   "outputs": [],
   "source": [
    "model.fit(x_train, y_train,\n",
    "    validation_data=(x_test, y_test),\n",
    "    batch_size=10,\n",
    "    epochs=30)"
   ]
  },
  {
   "cell_type": "code",
   "execution_count": null,
   "metadata": {},
   "outputs": [],
   "source": [
    "model.save(\"grp_model_trained.h5\")"
   ]
  },
  {
   "cell_type": "code",
   "execution_count": null,
   "metadata": {},
   "outputs": [],
   "source": [
    "pred = model.predict(x_test)\n",
    "\n",
    "fig = plt.figure(facecolor='white', figsize=(20, 10))\n",
    "ax = fig.add_subplot(111)\n",
    "ax.plot(y_test, label='True')\n",
    "ax.plot(pred, label='Prediction')\n",
    "plt.title('Grape')\n",
    "ax.legend()\n",
    "plt.show()"
   ]
  },
  {
   "cell_type": "code",
   "execution_count": null,
   "metadata": {},
   "outputs": [],
   "source": [
    "orange_2015 = export_all[(export_all['mktyr'] == 2015.0) & (export_all['product']=='Orange')]\n",
    "orn_2015 = export_all[(export_all['mktyr'] == 2015.0) & (export_all['product']=='Potato')].reset_index()\n",
    "orn_2015_new = orn_2015[['jan','feb', 'mar','apr','may','jun','jul','aug','sep','oct', 'nov', 'dec']]\n",
    "ren_orn_2015 = orn_2015_new.rename(columns={\"jan\":\"m1\", \"feb\":\"m2\", \"mar\":\"m3\", \"apr\":\"m4\", \"may\":\"m5\", \"jun\":\"m6\", \"jul\":\"m7\",\"aug\":\"m8\",\"sep\":\"m9\",\"oct\":\"m10\",\"nov\":\"m11\", \"dec\":\"m12\"})\n",
    "orn_2016 = export_all[(export_all['mktyr'] == 2016.0) & (export_all['product']=='Onion')].reset_index()\n",
    "orn_2016_new = orn_2016[['jan','feb', 'mar','apr','may','jun','jul','aug','sep','oct', 'nov', 'dec']]\n",
    "ren_orn_2016 = orn_2016_new.rename(columns={\"jan\":\"m13\", \"feb\":\"m14\", \"mar\":\"m15\", \"apr\":\"m16\", \"may\":\"m17\", \"jun\":\"m18\", \"jul\":\"m19\",\"aug\":\"m20\",\"sep\":\"m21\",\"oct\":\"m22\",\"nov\":\"m23\", \"dec\":\"m24\"})\n",
    "orn_2017 = export_all[(export_all['mktyr'] == 2017.0) & (export_all['product']=='Onion')].reset_index()\n",
    "orn_2017_new = orn_2017[['jan','feb', 'mar','apr','may','jun','jul','aug','sep','oct', 'nov', 'dec']]\n",
    "ren_orn_2017 = orn_2017_new.rename(columns={\"jan\":\"m25\", \"feb\":\"m26\", \"mar\":\"m27\", \"apr\":\"m28\", \"may\":\"m29\", \"jun\":\"m30\", \"jul\":\"m31\",\"aug\":\"m32\",\"sep\":\"m33\",\"oct\":\"m34\",\"nov\":\"m35\", \"dec\":\"m36\"})\n",
    "orn_2018 = export_all[(export_all['mktyr'] == 2018.0) & (export_all['product']=='Onion')].reset_index()\n",
    "orn_2018_new = orn_2018[['jan','feb', 'mar','apr','may','jun','jul','aug','sep','oct', 'nov', 'dec']]\n",
    "ren_orn_2018 = orn_2018_new.rename(columns={\"jan\":\"m37\", \"feb\":\"m38\", \"mar\":\"m39\", \"apr\":\"m40\", \"may\":\"m41\", \"jun\":\"m42\", \"jul\":\"m43\",\"aug\":\"m44\",\"sep\":\"m45\",\"oct\":\"m46\",\"nov\":\"m47\", \"dec\":\"m48\"})\n",
    "orn = ren_orn_2015.join([ren_orn_2016, ren_orn_2017, ren_orn_2018], how='outer')\n"
   ]
  },
  {
   "cell_type": "code",
   "execution_count": null,
   "metadata": {},
   "outputs": [],
   "source": [
    "trans_orn = orn.T \n",
    "orn_final = trans_orn.reset_index()\n",
    "orn_data = orn_final.rename(columns={\"index\": \"month\", 0: \"value\"})\n",
    "orn_data['mo'] = orn_data.index\n",
    "orn_fin=orn_data[[\"mo\", \"value\"]]\n",
    "orn_fin.index = orn_fin.mo\n",
    "orn_fin.drop('mo', axis=1, inplace=True)\n",
    "orn_fin.to_csv('dset/orn.csv')"
   ]
  },
  {
   "cell_type": "code",
   "execution_count": null,
   "metadata": {},
   "outputs": [],
   "source": [
    "value = orn_fin[\"value\"].values\n",
    "seq_len = 10\n",
    "sequence_length = seq_len + 1\n",
    "\n",
    "result = []\n",
    "for index in range(len(value) - sequence_length):\n",
    "    result.append(value[index: index + sequence_length])"
   ]
  },
  {
   "cell_type": "code",
   "execution_count": null,
   "metadata": {},
   "outputs": [],
   "source": [
    "normalized_data = []\n",
    "for window in result:\n",
    "    normalized_window = [((float(p) / float(window[0])) - 1) for p in window]\n",
    "    normalized_data.append(normalized_window)\n",
    "\n",
    "result = np.array(normalized_data)\n",
    "\n",
    "# split train and test data\n",
    "row = int(round(result.shape[0] * 0.9))\n",
    "train = result[:row, :]\n",
    "np.random.shuffle(train)\n",
    "\n",
    "x_train = train[:, :-1]\n",
    "x_train = np.reshape(x_train, (x_train.shape[0], x_train.shape[1], 1))\n",
    "y_train = train[:, -1]\n",
    "\n",
    "x_test = result[row:, :-1]\n",
    "x_test = np.reshape(x_test, (x_test.shape[0], x_test.shape[1], 1))\n",
    "y_test = result[row:, -1]\n",
    "\n",
    "x_train.shape, x_test.shape"
   ]
  },
  {
   "cell_type": "code",
   "execution_count": null,
   "metadata": {},
   "outputs": [],
   "source": [
    "model = Sequential()\n",
    "\n",
    "model.add(LSTM(10, return_sequences=True, input_shape=(10, 1)))\n",
    "\n",
    "model.add(LSTM(24, return_sequences=False))\n",
    "\n",
    "model.add(Dense(1, activation='linear'))\n",
    "\n",
    "model.compile(loss='mse', metrics=['mean_squared_error'],optimizer='nadam')\n",
    "\n",
    "model.summary()"
   ]
  },
  {
   "cell_type": "code",
   "execution_count": null,
   "metadata": {},
   "outputs": [],
   "source": [
    "model.fit(x_train, y_train,\n",
    "    validation_data=(x_test, y_test),\n",
    "    batch_size=10,\n",
    "    epochs=30)"
   ]
  },
  {
   "cell_type": "code",
   "execution_count": null,
   "metadata": {},
   "outputs": [],
   "source": [
    "model.save(\"orn_model_trained.h5\")"
   ]
  },
  {
   "cell_type": "code",
   "execution_count": null,
   "metadata": {},
   "outputs": [],
   "source": [
    "pred = model.predict(x_test)\n",
    "\n",
    "fig = plt.figure(facecolor='white', figsize=(20, 10))\n",
    "ax = fig.add_subplot(111)\n",
    "ax.plot(y_test, label='True')\n",
    "ax.plot(pred, label='Prediction')\n",
    "plt.title('Orange')\n",
    "ax.legend()\n",
    "plt.show()"
   ]
  },
  {
   "cell_type": "code",
   "execution_count": null,
   "metadata": {},
   "outputs": [],
   "source": [
    "pears_2015 = export_all[(export_all['mktyr'] == 2015.0) & (export_all['product']=='Pears')]\n",
    "pr_2015 = export_all[(export_all['mktyr'] == 2015.0) & (export_all['product']=='Potato')].reset_index()\n",
    "pr_2015_new = pr_2015[['jan','feb', 'mar','apr','may','jun','jul','aug','sep','oct', 'nov', 'dec']]\n",
    "ren_pr_2015 = pr_2015_new.rename(columns={\"jan\":\"m1\", \"feb\":\"m2\", \"mar\":\"m3\", \"apr\":\"m4\", \"may\":\"m5\", \"jun\":\"m6\", \"jul\":\"m7\",\"aug\":\"m8\",\"sep\":\"m9\",\"oct\":\"m10\",\"nov\":\"m11\", \"dec\":\"m12\"})\n",
    "pr_2016 = export_all[(export_all['mktyr'] == 2016.0) & (export_all['product']=='Onion')].reset_index()\n",
    "pr_2016_new = pr_2016[['jan','feb', 'mar','apr','may','jun','jul','aug','sep','oct', 'nov', 'dec']]\n",
    "ren_pr_2016 = pr_2016_new.rename(columns={\"jan\":\"m13\", \"feb\":\"m14\", \"mar\":\"m15\", \"apr\":\"m16\", \"may\":\"m17\", \"jun\":\"m18\", \"jul\":\"m19\",\"aug\":\"m20\",\"sep\":\"m21\",\"oct\":\"m22\",\"nov\":\"m23\", \"dec\":\"m24\"})\n",
    "pr_2017 = export_all[(export_all['mktyr'] == 2017.0) & (export_all['product']=='Onion')].reset_index()\n",
    "pr_2017_new = pr_2017[['jan','feb', 'mar','apr','may','jun','jul','aug','sep','oct', 'nov', 'dec']]\n",
    "ren_pr_2017 = pr_2017_new.rename(columns={\"jan\":\"m25\", \"feb\":\"m26\", \"mar\":\"m27\", \"apr\":\"m28\", \"may\":\"m29\", \"jun\":\"m30\", \"jul\":\"m31\",\"aug\":\"m32\",\"sep\":\"m33\",\"oct\":\"m34\",\"nov\":\"m35\", \"dec\":\"m36\"})\n",
    "pr_2018 = export_all[(export_all['mktyr'] == 2018.0) & (export_all['product']=='Onion')].reset_index()\n",
    "pr_2018_new = pr_2018[['jan','feb', 'mar','apr','may','jun','jul','aug','sep','oct', 'nov', 'dec']]\n",
    "ren_pr_2018 = pr_2018_new.rename(columns={\"jan\":\"m37\", \"feb\":\"m38\", \"mar\":\"m39\", \"apr\":\"m40\", \"may\":\"m41\", \"jun\":\"m42\", \"jul\":\"m43\",\"aug\":\"m44\",\"sep\":\"m45\",\"oct\":\"m46\",\"nov\":\"m47\", \"dec\":\"m48\"})\n",
    "pr = ren_pr_2015.join([ren_pr_2016, ren_pr_2017, ren_pr_2018], how='outer')\n"
   ]
  },
  {
   "cell_type": "code",
   "execution_count": null,
   "metadata": {},
   "outputs": [],
   "source": [
    "trans_pr = pr.T \n",
    "pr_final = trans_pr.reset_index()\n",
    "pr_data = pr_final.rename(columns={\"index\": \"month\", 0: \"value\"})\n",
    "pr_data['mo'] = pr_data.index\n",
    "pr_fin=pr_data[[\"mo\", \"value\"]]\n",
    "pr_fin.index = pr_fin.mo\n",
    "pr_fin.drop('mo', axis=1, inplace=True)\n",
    "pr_fin.to_csv('dset/pr.csv')"
   ]
  },
  {
   "cell_type": "code",
   "execution_count": null,
   "metadata": {},
   "outputs": [],
   "source": [
    "value = pr_fin[\"value\"].values\n",
    "seq_len = 10\n",
    "sequence_length = seq_len + 1\n",
    "\n",
    "result = []\n",
    "for index in range(len(value) - sequence_length):\n",
    "    result.append(value[index: index + sequence_length])"
   ]
  },
  {
   "cell_type": "code",
   "execution_count": null,
   "metadata": {},
   "outputs": [],
   "source": [
    "normalized_data = []\n",
    "for window in result:\n",
    "    normalized_window = [((float(p) / float(window[0])) - 1) for p in window]\n",
    "    normalized_data.append(normalized_window)\n",
    "\n",
    "result = np.array(normalized_data)\n",
    "\n",
    "# split train and test data\n",
    "row = int(round(result.shape[0] * 0.9))\n",
    "train = result[:row, :]\n",
    "np.random.shuffle(train)\n",
    "\n",
    "x_train = train[:, :-1]\n",
    "x_train = np.reshape(x_train, (x_train.shape[0], x_train.shape[1], 1))\n",
    "y_train = train[:, -1]\n",
    "\n",
    "x_test = result[row:, :-1]\n",
    "x_test = np.reshape(x_test, (x_test.shape[0], x_test.shape[1], 1))\n",
    "y_test = result[row:, -1]\n",
    "\n",
    "x_train.shape, x_test.shape"
   ]
  },
  {
   "cell_type": "code",
   "execution_count": null,
   "metadata": {},
   "outputs": [],
   "source": [
    "model = Sequential()\n",
    "\n",
    "model.add(LSTM(10, return_sequences=True, input_shape=(10, 1)))\n",
    "\n",
    "model.add(LSTM(24, return_sequences=False))\n",
    "\n",
    "model.add(Dense(1, activation='linear'))\n",
    "\n",
    "model.compile(loss='mse',metrics=['mean_squared_error'],optimizer='nadam')\n",
    "\n",
    "model.summary()"
   ]
  },
  {
   "cell_type": "code",
   "execution_count": null,
   "metadata": {},
   "outputs": [],
   "source": [
    "model.fit(x_train, y_train,\n",
    "    validation_data=(x_test, y_test),\n",
    "    batch_size=10,\n",
    "    epochs=30)"
   ]
  },
  {
   "cell_type": "code",
   "execution_count": null,
   "metadata": {},
   "outputs": [],
   "source": [
    "model.save(\"pr_model_trained.h5\")"
   ]
  },
  {
   "cell_type": "code",
   "execution_count": null,
   "metadata": {},
   "outputs": [],
   "source": [
    "pred = model.predict(x_test)\n",
    "\n",
    "fig = plt.figure(facecolor='white', figsize=(20, 10))\n",
    "ax = fig.add_subplot(111)\n",
    "ax.plot(y_test, label='True')\n",
    "ax.plot(pred, label='Prediction')\n",
    "plt.title('Pear')\n",
    "ax.legend()\n",
    "plt.show()"
   ]
  },
  {
   "cell_type": "code",
   "execution_count": null,
   "metadata": {},
   "outputs": [],
   "source": [
    "strawberries_2015 = export_all[(export_all['mktyr'] == 2015.0) & (export_all['product']=='Strawberries')]\n",
    "str_2015 = export_all[(export_all['mktyr'] == 2015.0) & (export_all['product']=='Potato')].reset_index()\n",
    "str_2015_new = str_2015[['jan','feb', 'mar','apr','may','jun','jul','aug','sep','oct', 'nov', 'dec']]\n",
    "ren_str_2015 = str_2015_new.rename(columns={\"jan\":\"m1\", \"feb\":\"m2\", \"mar\":\"m3\", \"apr\":\"m4\", \"may\":\"m5\", \"jun\":\"m6\", \"jul\":\"m7\",\"aug\":\"m8\",\"sep\":\"m9\",\"oct\":\"m10\",\"nov\":\"m11\", \"dec\":\"m12\"})\n",
    "str_2016 = export_all[(export_all['mktyr'] == 2016.0) & (export_all['product']=='Onion')].reset_index()\n",
    "str_2016_new = str_2016[['jan','feb', 'mar','apr','may','jun','jul','aug','sep','oct', 'nov', 'dec']]\n",
    "ren_str_2016 = str_2016_new.rename(columns={\"jan\":\"m13\", \"feb\":\"m14\", \"mar\":\"m15\", \"apr\":\"m16\", \"may\":\"m17\", \"jun\":\"m18\", \"jul\":\"m19\",\"aug\":\"m20\",\"sep\":\"m21\",\"oct\":\"m22\",\"nov\":\"m23\", \"dec\":\"m24\"})\n",
    "str_2017 = export_all[(export_all['mktyr'] == 2017.0) & (export_all['product']=='Onion')].reset_index()\n",
    "str_2017_new = str_2017[['jan','feb', 'mar','apr','may','jun','jul','aug','sep','oct', 'nov', 'dec']]\n",
    "ren_str_2017 = str_2017_new.rename(columns={\"jan\":\"m25\", \"feb\":\"m26\", \"mar\":\"m27\", \"apr\":\"m28\", \"may\":\"m29\", \"jun\":\"m30\", \"jul\":\"m31\",\"aug\":\"m32\",\"sep\":\"m33\",\"oct\":\"m34\",\"nov\":\"m35\", \"dec\":\"m36\"})\n",
    "str_2018 = export_all[(export_all['mktyr'] == 2018.0) & (export_all['product']=='Onion')].reset_index()\n",
    "str_2018_new = str_2018[['jan','feb', 'mar','apr','may','jun','jul','aug','sep','oct', 'nov', 'dec']]\n",
    "ren_str_2018 = str_2018_new.rename(columns={\"jan\":\"m37\", \"feb\":\"m38\", \"mar\":\"m39\", \"apr\":\"m40\", \"may\":\"m41\", \"jun\":\"m42\", \"jul\":\"m43\",\"aug\":\"m44\",\"sep\":\"m45\",\"oct\":\"m46\",\"nov\":\"m47\", \"dec\":\"m48\"})\n",
    "strw = ren_str_2015.join([ren_str_2016, ren_str_2017, ren_str_2018], how='outer')"
   ]
  },
  {
   "cell_type": "code",
   "execution_count": null,
   "metadata": {},
   "outputs": [],
   "source": [
    "trans_str = strw.T \n",
    "str_final = trans_str.reset_index()\n",
    "str_data = str_final.rename(columns={\"index\": \"month\", 0: \"value\"})\n",
    "str_data['mo'] = str_data.index\n",
    "str_fin=str_data[[\"mo\", \"value\"]]\n",
    "str_fin.index = str_fin.mo\n",
    "str_fin.drop('mo', axis=1, inplace=True)\n",
    "str_fin.to_csv('dset/str.csv')"
   ]
  },
  {
   "cell_type": "code",
   "execution_count": null,
   "metadata": {},
   "outputs": [],
   "source": [
    "value = str_fin[\"value\"].values\n",
    "seq_len = 10\n",
    "sequence_length = seq_len + 1\n",
    "\n",
    "result = []\n",
    "for index in range(len(value) - sequence_length):\n",
    "    result.append(value[index: index + sequence_length])"
   ]
  },
  {
   "cell_type": "code",
   "execution_count": null,
   "metadata": {},
   "outputs": [],
   "source": [
    "normalized_data = []\n",
    "for window in result:\n",
    "    normalized_window = [((float(p) / float(window[0])) - 1) for p in window]\n",
    "    normalized_data.append(normalized_window)\n",
    "\n",
    "result = np.array(normalized_data)\n",
    "\n",
    "# split train and test data\n",
    "row = int(round(result.shape[0] * 0.9))\n",
    "train = result[:row, :]\n",
    "np.random.shuffle(train)\n",
    "\n",
    "x_train = train[:, :-1]\n",
    "x_train = np.reshape(x_train, (x_train.shape[0], x_train.shape[1], 1))\n",
    "y_train = train[:, -1]\n",
    "\n",
    "x_test = result[row:, :-1]\n",
    "x_test = np.reshape(x_test, (x_test.shape[0], x_test.shape[1], 1))\n",
    "y_test = result[row:, -1]\n",
    "\n",
    "x_train.shape, x_test.shape"
   ]
  },
  {
   "cell_type": "code",
   "execution_count": null,
   "metadata": {},
   "outputs": [],
   "source": [
    "model = Sequential()\n",
    "\n",
    "model.add(LSTM(10, return_sequences=True, input_shape=(10, 1)))\n",
    "\n",
    "model.add(LSTM(24, return_sequences=False))\n",
    "\n",
    "model.add(Dense(1, activation='linear'))\n",
    "\n",
    "model.compile(loss='mean_squared_error', metrics=['mean_squared_error'], optimizer='nadam')\n",
    "\n",
    "model.summary()"
   ]
  },
  {
   "cell_type": "code",
   "execution_count": null,
   "metadata": {},
   "outputs": [],
   "source": [
    "model.fit(x_train, y_train,\n",
    "    validation_data=(x_test, y_test),\n",
    "    batch_size=10,\n",
    "    epochs=30)"
   ]
  },
  {
   "cell_type": "code",
   "execution_count": null,
   "metadata": {},
   "outputs": [],
   "source": [
    "model.save(\"str_model_trained.h5\")"
   ]
  },
  {
   "cell_type": "code",
   "execution_count": null,
   "metadata": {},
   "outputs": [],
   "source": [
    "# model.compile(optimizer='adam', loss='mse', metrics=['mse', 'accuracy'])\n",
    "# model.evaluate()"
   ]
  },
  {
   "cell_type": "code",
   "execution_count": null,
   "metadata": {},
   "outputs": [],
   "source": [
    "pred = model.predict(x_test)\n",
    "\n",
    "fig = plt.figure(facecolor='white', figsize=(20, 10))\n",
    "ax = fig.add_subplot(111)\n",
    "ax.plot(y_test, label='True')\n",
    "ax.plot(pred, label='Prediction')\n",
    "plt.title('Strawberry')\n",
    "ax.legend()\n",
    "plt.show()"
   ]
  },
  {
   "cell_type": "code",
   "execution_count": null,
   "metadata": {},
   "outputs": [],
   "source": []
  }
 ],
 "metadata": {
  "kernel_info": {
   "name": "python3"
  },
  "kernelspec": {
   "display_name": "Python 3",
   "language": "python",
   "name": "python3"
  },
  "language_info": {
   "codemirror_mode": {
    "name": "ipython",
    "version": 3
   },
   "file_extension": ".py",
   "mimetype": "text/x-python",
   "name": "python",
   "nbconvert_exporter": "python",
   "pygments_lexer": "ipython3",
   "version": "3.7.3"
  },
  "nteract": {
   "version": "0.12.3"
  },
  "varInspector": {
   "cols": {
    "lenName": 16,
    "lenType": 16,
    "lenVar": 40
   },
   "kernels_config": {
    "python": {
     "delete_cmd_postfix": "",
     "delete_cmd_prefix": "del ",
     "library": "var_list.py",
     "varRefreshCmd": "print(var_dic_list())"
    },
    "r": {
     "delete_cmd_postfix": ") ",
     "delete_cmd_prefix": "rm(",
     "library": "var_list.r",
     "varRefreshCmd": "cat(var_dic_list()) "
    }
   },
   "types_to_exclude": [
    "module",
    "function",
    "builtin_function_or_method",
    "instance",
    "_Feature"
   ],
   "window_display": false
  }
 },
 "nbformat": 4,
 "nbformat_minor": 2
}
